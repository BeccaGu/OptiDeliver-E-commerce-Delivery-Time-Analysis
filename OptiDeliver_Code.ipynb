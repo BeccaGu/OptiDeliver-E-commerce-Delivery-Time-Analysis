{
 "cells": [
  {
   "cell_type": "markdown",
   "id": "8a05d36f",
   "metadata": {},
   "source": [
    "# OptiDeliver: Machine Learning for Enhanced Delivery Predictions\n",
    "## Introduction\n",
    "\n",
    "To develop a predictive framework using historical order data and external factors like weather conditions and public holidays. \n",
    "\n",
    "By enhancing the precision of delivery time predictions, the project aims to improve the operational efficiency of e-commerce businesses and elevate customer satisfaction by keeping consumers well-informed about their order statuses.Five machine learning models were evaluated: Logistic Regression, Decision Tree, KNN, Naive Bayes, and Random Forest. \n",
    "\n",
    "The Random Forest model showed superior performance, achieving an accuracy of 96.63% and an AUC of 0.59, demonstrating robust handling of the dataset's complexity and variability.\n",
    "\n",
    "\n",
    "## Workflow\n",
    "\n",
    "**1. Data Collection and Investigation**\n",
    "\n",
    "1.1 Explore data\n",
    "1.2 Merge datasets\n",
    "\n",
    "\n",
    "**2. Data pre-processing**\n",
    "\n",
    "2.1 Change data types \n",
    "2.2 Handling missing values\n",
    "2.3 Remove outliers \n",
    "\n",
    "2.4 Create dummy variables\n",
    "2.5 Feature Scaling \n",
    "2.6 Feature Engineering\n",
    "\n",
    "2.7 Class imbalance Oversampling\n",
    "\n",
    "\n",
    "**3. Test Train Split**\n",
    "\n",
    "3.1 Feature Encoding\n",
    "3.2 Feature Selection\n",
    "3.3 Class imbalance Oversampling\n",
    "\n",
    "\n",
    "**4. Exploratory Data Analysis (EDA)**\n",
    "\n",
    "4.1 Bar Chart\n",
    "4.2 Box Plots\n",
    "4.3 Correlation Matrix\n",
    "\n",
    "\n",
    "**5. Machine Learning Algorithms**\n",
    "\n",
    "5.1 Initial Model Selection\n",
    "5.2 Cross-Validation\n",
    "5.3 Fine-Tune Hyperparameters for Random Forest\n",
    "\n",
    "\n",
    "**6. Model Evaluation**"
   ]
  },
  {
   "cell_type": "markdown",
   "id": "82761e2c",
   "metadata": {},
   "source": [
    "## 1. Data Collection and Investigation\n",
    "\n",
    "Downloading files from kaggle.com Olist public dataset, a Brazil e-commerce platform"
   ]
  },
  {
   "cell_type": "code",
   "execution_count": 3,
   "id": "ccd2d0aa",
   "metadata": {},
   "outputs": [
    {
     "name": "stdout",
     "output_type": "stream",
     "text": [
      "/Users/test/Desktop/BA project dataset/Retail\n"
     ]
    }
   ],
   "source": [
    "import sys\n",
    "assert sys.version_info >= (3, 5)\n",
    "\n",
    "import sklearn\n",
    "assert sklearn.__version__ >= \"0.20\"\n",
    "\n",
    "import os\n",
    "import seaborn as sns\n",
    "import pandas as pd\n",
    "import numpy as np\n",
    "import matplotlib.pyplot as plt \n",
    "import seaborn as sns\n",
    "import datetime\n",
    "from scipy import stats\n",
    "\n",
    "HOME = os.path.expanduser('~')\n",
    "PROJECT_DIR = os.path.join(HOME, \"Desktop\",\"BA project dataset\",\"Retail\")\n",
    "\n",
    "os.chdir(PROJECT_DIR)\n",
    "print(os.getcwd())\n",
    "\n",
    "import warnings\n",
    "warnings.filterwarnings( 'ignore' )"
   ]
  },
  {
   "cell_type": "code",
   "execution_count": 4,
   "id": "2def8652",
   "metadata": {},
   "outputs": [
    {
     "data": {
      "text/plain": [
       "['olist_sellers_dataset.csv',\n",
       " '.DS_Store',\n",
       " 'product_category_name_translation.csv',\n",
       " 'olist_orders_dataset.csv',\n",
       " 'olist_order_items_dataset.csv',\n",
       " 'Brazil_holiday.csv',\n",
       " 'merged_ecommerce_data_lat_lng.csv',\n",
       " 'olist_customers_dataset.csv',\n",
       " 'olist_geolocation_dataset.csv',\n",
       " 'olist_order_payments_dataset.csv',\n",
       " 'olist_order_reviews_dataset.csv',\n",
       " 'merged_ecommerce_data.csv',\n",
       " 'olist_products_dataset.csv',\n",
       " 'retail_data_weather.csv']"
      ]
     },
     "execution_count": 4,
     "metadata": {},
     "output_type": "execute_result"
    }
   ],
   "source": [
    "os.listdir()"
   ]
  },
  {
   "cell_type": "code",
   "execution_count": 5,
   "id": "3a075295",
   "metadata": {},
   "outputs": [],
   "source": [
    "import pandas as pd\n",
    "\n",
    "customer_d = pd.read_csv('olist_customers_dataset.csv')\n",
    "geolocation_d = pd.read_csv('olist_geolocation_dataset.csv')\n",
    "orders_d = pd.read_csv('olist_orders_dataset.csv')\n",
    "order_items_d = pd.read_csv('olist_order_items_dataset.csv')\n",
    "order_payments_d = pd.read_csv('olist_order_payments_dataset.csv')\n",
    "order_reviews_d = pd.read_csv('olist_order_reviews_dataset.csv')\n",
    "products_d = pd.read_csv('olist_products_dataset.csv')\n",
    "sellers_d = pd.read_csv('olist_sellers_dataset.csv')\n",
    "prod_catname_d = pd.read_csv(\"product_category_name_translation.csv\")"
   ]
  },
  {
   "cell_type": "markdown",
   "id": "df822b55",
   "metadata": {},
   "source": [
    "### 1.1 Explore Data"
   ]
  },
  {
   "cell_type": "code",
   "execution_count": 6,
   "id": "5ea3a519",
   "metadata": {},
   "outputs": [
    {
     "name": "stdout",
     "output_type": "stream",
     "text": [
      "<class 'pandas.core.frame.DataFrame'>\n",
      "RangeIndex: 99441 entries, 0 to 99440\n",
      "Data columns (total 5 columns):\n",
      " #   Column                    Non-Null Count  Dtype \n",
      "---  ------                    --------------  ----- \n",
      " 0   customer_id               99441 non-null  object\n",
      " 1   customer_unique_id        99441 non-null  object\n",
      " 2   customer_zip_code_prefix  99441 non-null  int64 \n",
      " 3   customer_city             99441 non-null  object\n",
      " 4   customer_state            99441 non-null  object\n",
      "dtypes: int64(1), object(4)\n",
      "memory usage: 3.8+ MB\n"
     ]
    }
   ],
   "source": [
    "customer_d.info()"
   ]
  },
  {
   "cell_type": "code",
   "execution_count": 7,
   "id": "efe499e0",
   "metadata": {},
   "outputs": [
    {
     "name": "stdout",
     "output_type": "stream",
     "text": [
      "<class 'pandas.core.frame.DataFrame'>\n",
      "RangeIndex: 1000163 entries, 0 to 1000162\n",
      "Data columns (total 5 columns):\n",
      " #   Column                       Non-Null Count    Dtype  \n",
      "---  ------                       --------------    -----  \n",
      " 0   geolocation_zip_code_prefix  1000163 non-null  int64  \n",
      " 1   geolocation_lat              1000163 non-null  float64\n",
      " 2   geolocation_lng              1000163 non-null  float64\n",
      " 3   geolocation_city             1000163 non-null  object \n",
      " 4   geolocation_state            1000163 non-null  object \n",
      "dtypes: float64(2), int64(1), object(2)\n",
      "memory usage: 38.2+ MB\n"
     ]
    }
   ],
   "source": [
    "geolocation_d.info()"
   ]
  },
  {
   "cell_type": "code",
   "execution_count": 8,
   "id": "37c193b1",
   "metadata": {},
   "outputs": [
    {
     "name": "stdout",
     "output_type": "stream",
     "text": [
      "<class 'pandas.core.frame.DataFrame'>\n",
      "RangeIndex: 99441 entries, 0 to 99440\n",
      "Data columns (total 8 columns):\n",
      " #   Column                         Non-Null Count  Dtype \n",
      "---  ------                         --------------  ----- \n",
      " 0   order_id                       99441 non-null  object\n",
      " 1   customer_id                    99441 non-null  object\n",
      " 2   order_status                   99441 non-null  object\n",
      " 3   order_purchase_timestamp       99441 non-null  object\n",
      " 4   order_approved_at              99281 non-null  object\n",
      " 5   order_delivered_carrier_date   97658 non-null  object\n",
      " 6   order_delivered_customer_date  96476 non-null  object\n",
      " 7   order_estimated_delivery_date  99441 non-null  object\n",
      "dtypes: object(8)\n",
      "memory usage: 6.1+ MB\n"
     ]
    }
   ],
   "source": [
    "orders_d.info()"
   ]
  },
  {
   "cell_type": "code",
   "execution_count": 9,
   "id": "a4ba4008",
   "metadata": {},
   "outputs": [
    {
     "name": "stdout",
     "output_type": "stream",
     "text": [
      "<class 'pandas.core.frame.DataFrame'>\n",
      "RangeIndex: 112650 entries, 0 to 112649\n",
      "Data columns (total 7 columns):\n",
      " #   Column               Non-Null Count   Dtype  \n",
      "---  ------               --------------   -----  \n",
      " 0   order_id             112650 non-null  object \n",
      " 1   order_item_id        112650 non-null  int64  \n",
      " 2   product_id           112650 non-null  object \n",
      " 3   seller_id            112650 non-null  object \n",
      " 4   shipping_limit_date  112650 non-null  object \n",
      " 5   price                112650 non-null  float64\n",
      " 6   freight_value        112650 non-null  float64\n",
      "dtypes: float64(2), int64(1), object(4)\n",
      "memory usage: 6.0+ MB\n"
     ]
    }
   ],
   "source": [
    "order_items_d.info()"
   ]
  },
  {
   "cell_type": "code",
   "execution_count": 10,
   "id": "2ea517ab",
   "metadata": {},
   "outputs": [
    {
     "data": {
      "text/html": [
       "<div>\n",
       "<style scoped>\n",
       "    .dataframe tbody tr th:only-of-type {\n",
       "        vertical-align: middle;\n",
       "    }\n",
       "\n",
       "    .dataframe tbody tr th {\n",
       "        vertical-align: top;\n",
       "    }\n",
       "\n",
       "    .dataframe thead th {\n",
       "        text-align: right;\n",
       "    }\n",
       "</style>\n",
       "<table border=\"1\" class=\"dataframe\">\n",
       "  <thead>\n",
       "    <tr style=\"text-align: right;\">\n",
       "      <th></th>\n",
       "      <th>order_id</th>\n",
       "      <th>payment_sequential</th>\n",
       "      <th>payment_type</th>\n",
       "      <th>payment_installments</th>\n",
       "      <th>payment_value</th>\n",
       "    </tr>\n",
       "  </thead>\n",
       "  <tbody>\n",
       "    <tr>\n",
       "      <th>0</th>\n",
       "      <td>b81ef226f3fe1789b1e8b2acac839d17</td>\n",
       "      <td>1</td>\n",
       "      <td>credit_card</td>\n",
       "      <td>8</td>\n",
       "      <td>99.33</td>\n",
       "    </tr>\n",
       "    <tr>\n",
       "      <th>1</th>\n",
       "      <td>a9810da82917af2d9aefd1278f1dcfa0</td>\n",
       "      <td>1</td>\n",
       "      <td>credit_card</td>\n",
       "      <td>1</td>\n",
       "      <td>24.39</td>\n",
       "    </tr>\n",
       "    <tr>\n",
       "      <th>2</th>\n",
       "      <td>25e8ea4e93396b6fa0d3dd708e76c1bd</td>\n",
       "      <td>1</td>\n",
       "      <td>credit_card</td>\n",
       "      <td>1</td>\n",
       "      <td>65.71</td>\n",
       "    </tr>\n",
       "    <tr>\n",
       "      <th>3</th>\n",
       "      <td>ba78997921bbcdc1373bb41e913ab953</td>\n",
       "      <td>1</td>\n",
       "      <td>credit_card</td>\n",
       "      <td>8</td>\n",
       "      <td>107.78</td>\n",
       "    </tr>\n",
       "    <tr>\n",
       "      <th>4</th>\n",
       "      <td>42fdf880ba16b47b59251dd489d4441a</td>\n",
       "      <td>1</td>\n",
       "      <td>credit_card</td>\n",
       "      <td>2</td>\n",
       "      <td>128.45</td>\n",
       "    </tr>\n",
       "  </tbody>\n",
       "</table>\n",
       "</div>"
      ],
      "text/plain": [
       "                           order_id  payment_sequential payment_type  \\\n",
       "0  b81ef226f3fe1789b1e8b2acac839d17                   1  credit_card   \n",
       "1  a9810da82917af2d9aefd1278f1dcfa0                   1  credit_card   \n",
       "2  25e8ea4e93396b6fa0d3dd708e76c1bd                   1  credit_card   \n",
       "3  ba78997921bbcdc1373bb41e913ab953                   1  credit_card   \n",
       "4  42fdf880ba16b47b59251dd489d4441a                   1  credit_card   \n",
       "\n",
       "   payment_installments  payment_value  \n",
       "0                     8          99.33  \n",
       "1                     1          24.39  \n",
       "2                     1          65.71  \n",
       "3                     8         107.78  \n",
       "4                     2         128.45  "
      ]
     },
     "execution_count": 10,
     "metadata": {},
     "output_type": "execute_result"
    }
   ],
   "source": [
    "order_payments_d.head()"
   ]
  },
  {
   "cell_type": "code",
   "execution_count": 11,
   "id": "f406406f",
   "metadata": {},
   "outputs": [
    {
     "name": "stdout",
     "output_type": "stream",
     "text": [
      "<class 'pandas.core.frame.DataFrame'>\n",
      "RangeIndex: 99224 entries, 0 to 99223\n",
      "Data columns (total 7 columns):\n",
      " #   Column                   Non-Null Count  Dtype \n",
      "---  ------                   --------------  ----- \n",
      " 0   review_id                99224 non-null  object\n",
      " 1   order_id                 99224 non-null  object\n",
      " 2   review_score             99224 non-null  int64 \n",
      " 3   review_comment_title     11568 non-null  object\n",
      " 4   review_comment_message   40977 non-null  object\n",
      " 5   review_creation_date     99224 non-null  object\n",
      " 6   review_answer_timestamp  99224 non-null  object\n",
      "dtypes: int64(1), object(6)\n",
      "memory usage: 5.3+ MB\n"
     ]
    }
   ],
   "source": [
    "order_reviews_d.info()"
   ]
  },
  {
   "cell_type": "code",
   "execution_count": 12,
   "id": "66a6a595",
   "metadata": {},
   "outputs": [
    {
     "name": "stdout",
     "output_type": "stream",
     "text": [
      "<class 'pandas.core.frame.DataFrame'>\n",
      "RangeIndex: 32951 entries, 0 to 32950\n",
      "Data columns (total 9 columns):\n",
      " #   Column                      Non-Null Count  Dtype  \n",
      "---  ------                      --------------  -----  \n",
      " 0   product_id                  32951 non-null  object \n",
      " 1   product_category_name       32341 non-null  object \n",
      " 2   product_name_lenght         32341 non-null  float64\n",
      " 3   product_description_lenght  32341 non-null  float64\n",
      " 4   product_photos_qty          32341 non-null  float64\n",
      " 5   product_weight_g            32949 non-null  float64\n",
      " 6   product_length_cm           32949 non-null  float64\n",
      " 7   product_height_cm           32949 non-null  float64\n",
      " 8   product_width_cm            32949 non-null  float64\n",
      "dtypes: float64(7), object(2)\n",
      "memory usage: 2.3+ MB\n"
     ]
    },
    {
     "data": {
      "text/plain": [
       "product_id                      0\n",
       "product_category_name         610\n",
       "product_name_lenght           610\n",
       "product_description_lenght    610\n",
       "product_photos_qty            610\n",
       "product_weight_g                2\n",
       "product_length_cm               2\n",
       "product_height_cm               2\n",
       "product_width_cm                2\n",
       "dtype: int64"
      ]
     },
     "execution_count": 12,
     "metadata": {},
     "output_type": "execute_result"
    }
   ],
   "source": [
    "products_d.info()\n",
    "products_d.isnull().sum()"
   ]
  },
  {
   "cell_type": "code",
   "execution_count": 13,
   "id": "33dc794e",
   "metadata": {},
   "outputs": [
    {
     "name": "stdout",
     "output_type": "stream",
     "text": [
      "<class 'pandas.core.frame.DataFrame'>\n",
      "RangeIndex: 3095 entries, 0 to 3094\n",
      "Data columns (total 4 columns):\n",
      " #   Column                  Non-Null Count  Dtype \n",
      "---  ------                  --------------  ----- \n",
      " 0   seller_id               3095 non-null   object\n",
      " 1   seller_zip_code_prefix  3095 non-null   int64 \n",
      " 2   seller_city             3095 non-null   object\n",
      " 3   seller_state            3095 non-null   object\n",
      "dtypes: int64(1), object(3)\n",
      "memory usage: 96.8+ KB\n"
     ]
    }
   ],
   "source": [
    "sellers_d.info()"
   ]
  },
  {
   "cell_type": "markdown",
   "id": "1cf7b574",
   "metadata": {},
   "source": [
    "### 1.2 Merge datasets"
   ]
  },
  {
   "cell_type": "code",
   "execution_count": 14,
   "id": "eef92cd0",
   "metadata": {
    "scrolled": true
   },
   "outputs": [
    {
     "data": {
      "text/html": [
       "<div>\n",
       "<style scoped>\n",
       "    .dataframe tbody tr th:only-of-type {\n",
       "        vertical-align: middle;\n",
       "    }\n",
       "\n",
       "    .dataframe tbody tr th {\n",
       "        vertical-align: top;\n",
       "    }\n",
       "\n",
       "    .dataframe thead th {\n",
       "        text-align: right;\n",
       "    }\n",
       "</style>\n",
       "<table border=\"1\" class=\"dataframe\">\n",
       "  <thead>\n",
       "    <tr style=\"text-align: right;\">\n",
       "      <th></th>\n",
       "      <th>customer_zip_code_prefix</th>\n",
       "      <th>order_item_id</th>\n",
       "      <th>price</th>\n",
       "      <th>freight_value</th>\n",
       "      <th>product_name_lenght</th>\n",
       "      <th>product_description_lenght</th>\n",
       "      <th>product_photos_qty</th>\n",
       "      <th>product_weight_g</th>\n",
       "      <th>product_length_cm</th>\n",
       "      <th>product_height_cm</th>\n",
       "      <th>product_width_cm</th>\n",
       "      <th>payment_sequential</th>\n",
       "      <th>payment_installments</th>\n",
       "      <th>payment_value</th>\n",
       "      <th>seller_zip_code_prefix</th>\n",
       "      <th>review_score</th>\n",
       "      <th>customer_geolocation_lat</th>\n",
       "      <th>customer_geolocation_lng</th>\n",
       "      <th>seller_geolocation_lat</th>\n",
       "      <th>seller_geolocation_lng</th>\n",
       "    </tr>\n",
       "  </thead>\n",
       "  <tbody>\n",
       "    <tr>\n",
       "      <th>count</th>\n",
       "      <td>115609.00</td>\n",
       "      <td>115609.00</td>\n",
       "      <td>115609.00</td>\n",
       "      <td>115609.00</td>\n",
       "      <td>115609.00</td>\n",
       "      <td>115609.00</td>\n",
       "      <td>115609.00</td>\n",
       "      <td>115608.00</td>\n",
       "      <td>115608.00</td>\n",
       "      <td>115608.00</td>\n",
       "      <td>115608.00</td>\n",
       "      <td>115609.00</td>\n",
       "      <td>115609.00</td>\n",
       "      <td>115609.00</td>\n",
       "      <td>115609.00</td>\n",
       "      <td>115609.00</td>\n",
       "      <td>115299.00</td>\n",
       "      <td>115299.00</td>\n",
       "      <td>115346.00</td>\n",
       "      <td>115346.00</td>\n",
       "    </tr>\n",
       "    <tr>\n",
       "      <th>mean</th>\n",
       "      <td>35061.54</td>\n",
       "      <td>1.19</td>\n",
       "      <td>120.62</td>\n",
       "      <td>20.06</td>\n",
       "      <td>48.77</td>\n",
       "      <td>785.81</td>\n",
       "      <td>2.21</td>\n",
       "      <td>2113.91</td>\n",
       "      <td>30.31</td>\n",
       "      <td>16.64</td>\n",
       "      <td>23.11</td>\n",
       "      <td>1.09</td>\n",
       "      <td>2.95</td>\n",
       "      <td>172.39</td>\n",
       "      <td>24515.71</td>\n",
       "      <td>4.03</td>\n",
       "      <td>-21.23</td>\n",
       "      <td>-46.20</td>\n",
       "      <td>-22.79</td>\n",
       "      <td>-47.25</td>\n",
       "    </tr>\n",
       "    <tr>\n",
       "      <th>std</th>\n",
       "      <td>29841.67</td>\n",
       "      <td>0.69</td>\n",
       "      <td>182.65</td>\n",
       "      <td>15.84</td>\n",
       "      <td>10.03</td>\n",
       "      <td>652.42</td>\n",
       "      <td>1.72</td>\n",
       "      <td>3781.75</td>\n",
       "      <td>16.21</td>\n",
       "      <td>13.47</td>\n",
       "      <td>11.76</td>\n",
       "      <td>0.73</td>\n",
       "      <td>2.78</td>\n",
       "      <td>265.87</td>\n",
       "      <td>27636.64</td>\n",
       "      <td>1.39</td>\n",
       "      <td>5.56</td>\n",
       "      <td>4.04</td>\n",
       "      <td>2.70</td>\n",
       "      <td>2.34</td>\n",
       "    </tr>\n",
       "    <tr>\n",
       "      <th>min</th>\n",
       "      <td>1003.00</td>\n",
       "      <td>1.00</td>\n",
       "      <td>0.85</td>\n",
       "      <td>0.00</td>\n",
       "      <td>5.00</td>\n",
       "      <td>4.00</td>\n",
       "      <td>1.00</td>\n",
       "      <td>0.00</td>\n",
       "      <td>7.00</td>\n",
       "      <td>2.00</td>\n",
       "      <td>6.00</td>\n",
       "      <td>1.00</td>\n",
       "      <td>0.00</td>\n",
       "      <td>0.00</td>\n",
       "      <td>1001.00</td>\n",
       "      <td>1.00</td>\n",
       "      <td>-33.69</td>\n",
       "      <td>-72.67</td>\n",
       "      <td>-32.08</td>\n",
       "      <td>-67.81</td>\n",
       "    </tr>\n",
       "    <tr>\n",
       "      <th>25%</th>\n",
       "      <td>11310.00</td>\n",
       "      <td>1.00</td>\n",
       "      <td>39.90</td>\n",
       "      <td>13.08</td>\n",
       "      <td>42.00</td>\n",
       "      <td>346.00</td>\n",
       "      <td>1.00</td>\n",
       "      <td>300.00</td>\n",
       "      <td>18.00</td>\n",
       "      <td>8.00</td>\n",
       "      <td>15.00</td>\n",
       "      <td>1.00</td>\n",
       "      <td>1.00</td>\n",
       "      <td>60.87</td>\n",
       "      <td>6429.00</td>\n",
       "      <td>4.00</td>\n",
       "      <td>-23.59</td>\n",
       "      <td>-48.10</td>\n",
       "      <td>-23.61</td>\n",
       "      <td>-48.83</td>\n",
       "    </tr>\n",
       "    <tr>\n",
       "      <th>50%</th>\n",
       "      <td>24241.00</td>\n",
       "      <td>1.00</td>\n",
       "      <td>74.90</td>\n",
       "      <td>16.32</td>\n",
       "      <td>52.00</td>\n",
       "      <td>600.00</td>\n",
       "      <td>1.00</td>\n",
       "      <td>700.00</td>\n",
       "      <td>25.00</td>\n",
       "      <td>13.00</td>\n",
       "      <td>20.00</td>\n",
       "      <td>1.00</td>\n",
       "      <td>2.00</td>\n",
       "      <td>108.05</td>\n",
       "      <td>13660.00</td>\n",
       "      <td>5.00</td>\n",
       "      <td>-22.93</td>\n",
       "      <td>-46.63</td>\n",
       "      <td>-23.42</td>\n",
       "      <td>-46.76</td>\n",
       "    </tr>\n",
       "    <tr>\n",
       "      <th>75%</th>\n",
       "      <td>58745.00</td>\n",
       "      <td>1.00</td>\n",
       "      <td>134.90</td>\n",
       "      <td>21.21</td>\n",
       "      <td>57.00</td>\n",
       "      <td>983.00</td>\n",
       "      <td>3.00</td>\n",
       "      <td>1800.00</td>\n",
       "      <td>38.00</td>\n",
       "      <td>20.00</td>\n",
       "      <td>30.00</td>\n",
       "      <td>1.00</td>\n",
       "      <td>4.00</td>\n",
       "      <td>189.48</td>\n",
       "      <td>28605.00</td>\n",
       "      <td>5.00</td>\n",
       "      <td>-20.18</td>\n",
       "      <td>-43.62</td>\n",
       "      <td>-21.76</td>\n",
       "      <td>-46.52</td>\n",
       "    </tr>\n",
       "    <tr>\n",
       "      <th>max</th>\n",
       "      <td>99980.00</td>\n",
       "      <td>21.00</td>\n",
       "      <td>6735.00</td>\n",
       "      <td>409.68</td>\n",
       "      <td>76.00</td>\n",
       "      <td>3992.00</td>\n",
       "      <td>20.00</td>\n",
       "      <td>40425.00</td>\n",
       "      <td>105.00</td>\n",
       "      <td>105.00</td>\n",
       "      <td>118.00</td>\n",
       "      <td>29.00</td>\n",
       "      <td>24.00</td>\n",
       "      <td>13664.08</td>\n",
       "      <td>99730.00</td>\n",
       "      <td>5.00</td>\n",
       "      <td>42.18</td>\n",
       "      <td>-8.72</td>\n",
       "      <td>-2.50</td>\n",
       "      <td>-34.86</td>\n",
       "    </tr>\n",
       "  </tbody>\n",
       "</table>\n",
       "</div>"
      ],
      "text/plain": [
       "       customer_zip_code_prefix  order_item_id      price  freight_value  \\\n",
       "count                 115609.00      115609.00  115609.00      115609.00   \n",
       "mean                   35061.54           1.19     120.62          20.06   \n",
       "std                    29841.67           0.69     182.65          15.84   \n",
       "min                     1003.00           1.00       0.85           0.00   \n",
       "25%                    11310.00           1.00      39.90          13.08   \n",
       "50%                    24241.00           1.00      74.90          16.32   \n",
       "75%                    58745.00           1.00     134.90          21.21   \n",
       "max                    99980.00          21.00    6735.00         409.68   \n",
       "\n",
       "       product_name_lenght  product_description_lenght  product_photos_qty  \\\n",
       "count            115609.00                   115609.00           115609.00   \n",
       "mean                 48.77                      785.81                2.21   \n",
       "std                  10.03                      652.42                1.72   \n",
       "min                   5.00                        4.00                1.00   \n",
       "25%                  42.00                      346.00                1.00   \n",
       "50%                  52.00                      600.00                1.00   \n",
       "75%                  57.00                      983.00                3.00   \n",
       "max                  76.00                     3992.00               20.00   \n",
       "\n",
       "       product_weight_g  product_length_cm  product_height_cm  \\\n",
       "count         115608.00          115608.00          115608.00   \n",
       "mean            2113.91              30.31              16.64   \n",
       "std             3781.75              16.21              13.47   \n",
       "min                0.00               7.00               2.00   \n",
       "25%              300.00              18.00               8.00   \n",
       "50%              700.00              25.00              13.00   \n",
       "75%             1800.00              38.00              20.00   \n",
       "max            40425.00             105.00             105.00   \n",
       "\n",
       "       product_width_cm  payment_sequential  payment_installments  \\\n",
       "count         115608.00           115609.00             115609.00   \n",
       "mean              23.11                1.09                  2.95   \n",
       "std               11.76                0.73                  2.78   \n",
       "min                6.00                1.00                  0.00   \n",
       "25%               15.00                1.00                  1.00   \n",
       "50%               20.00                1.00                  2.00   \n",
       "75%               30.00                1.00                  4.00   \n",
       "max              118.00               29.00                 24.00   \n",
       "\n",
       "       payment_value  seller_zip_code_prefix  review_score  \\\n",
       "count      115609.00               115609.00     115609.00   \n",
       "mean          172.39                24515.71          4.03   \n",
       "std           265.87                27636.64          1.39   \n",
       "min             0.00                 1001.00          1.00   \n",
       "25%            60.87                 6429.00          4.00   \n",
       "50%           108.05                13660.00          5.00   \n",
       "75%           189.48                28605.00          5.00   \n",
       "max         13664.08                99730.00          5.00   \n",
       "\n",
       "       customer_geolocation_lat  customer_geolocation_lng  \\\n",
       "count                 115299.00                 115299.00   \n",
       "mean                     -21.23                    -46.20   \n",
       "std                        5.56                      4.04   \n",
       "min                      -33.69                    -72.67   \n",
       "25%                      -23.59                    -48.10   \n",
       "50%                      -22.93                    -46.63   \n",
       "75%                      -20.18                    -43.62   \n",
       "max                       42.18                     -8.72   \n",
       "\n",
       "       seller_geolocation_lat  seller_geolocation_lng  \n",
       "count               115346.00               115346.00  \n",
       "mean                   -22.79                  -47.25  \n",
       "std                      2.70                    2.34  \n",
       "min                    -32.08                  -67.81  \n",
       "25%                    -23.61                  -48.83  \n",
       "50%                    -23.42                  -46.76  \n",
       "75%                    -21.76                  -46.52  \n",
       "max                     -2.50                  -34.86  "
      ]
     },
     "execution_count": 14,
     "metadata": {},
     "output_type": "execute_result"
    }
   ],
   "source": [
    "# Merge datasets of customer, orders, products, payments, reviews, sellers and category name dataset\n",
    "olist_data = orders_d.merge(customer_d, on=\"customer_id\").merge(order_items_d, on=\"order_id\").merge(\n",
    "    products_d, on=\"product_id\").merge(prod_catname_d, on=\"product_category_name\").merge(\n",
    "    order_payments_d, on=\"order_id\").merge(sellers_d, on=\"seller_id\").merge(order_reviews_d, on=\"order_id\")\n",
    "\n",
    "# Merge customer geolocation data\n",
    "geolocation_d['customer_zip_code_prefix'] = geolocation_d['geolocation_zip_code_prefix']\n",
    "geol = geolocation_d.groupby(['customer_zip_code_prefix'],as_index=False).agg({\n",
    "  'geolocation_lat':'mean',\n",
    "  'geolocation_lng':'mean'\n",
    "})\n",
    "olist_data2 = olist_data.merge(geol,how='left',on='customer_zip_code_prefix')\n",
    "olist_data2.shape\n",
    "olist_data2.rename(\n",
    "        columns={\"geolocation_lat\": \"customer_geolocation_lat\", \"geolocation_lng\": \"customer_geolocation_lng\"},\n",
    "        inplace=True)\n",
    "\n",
    "# Merge seller geolocation data\n",
    "geolocation_d['seller_zip_code_prefix'] = geolocation_d['geolocation_zip_code_prefix']\n",
    "geol2 = geolocation_d.groupby(['seller_zip_code_prefix'],as_index=False).agg({\n",
    "  'geolocation_lat':'mean',\n",
    "  'geolocation_lng':'mean'\n",
    "})\n",
    "olist_data3 = olist_data2.merge(geol2,how='left',on='seller_zip_code_prefix')\n",
    "olist_data3.shape\n",
    "\n",
    "olist_data3.rename(\n",
    "        columns={\"geolocation_lat\": \"seller_geolocation_lat\", \"geolocation_lng\": \"seller_geolocation_lng\"},\n",
    "        inplace=True)\n",
    "\n",
    "olist_data3.describe().round(2)\n"
   ]
  },
  {
   "cell_type": "markdown",
   "id": "f9bc4899",
   "metadata": {},
   "source": [
    "## 2. Data Pre-processing"
   ]
  },
  {
   "cell_type": "markdown",
   "id": "4f7b82d6",
   "metadata": {},
   "source": [
    "### 2.1 Change data types"
   ]
  },
  {
   "cell_type": "code",
   "execution_count": 15,
   "id": "3d6d8ac0",
   "metadata": {},
   "outputs": [],
   "source": [
    "#change data type from object to datetime \n",
    "olist_data3['order_delivered_customer_date'] = pd.to_datetime(olist_data3.order_delivered_customer_date)\n",
    "olist_data3['order_estimated_delivery_date'] = pd.to_datetime(olist_data3.order_estimated_delivery_date)\n",
    "olist_data3['order_delivered_carrier_date'] = pd.to_datetime(olist_data3.order_delivered_carrier_date)\n",
    "olist_data3['shipping_limit_date'] = pd.to_datetime(olist_data3.shipping_limit_date)\n",
    "olist_data3['order_purchase_timestamp'] = pd.to_datetime(olist_data3.order_purchase_timestamp)\n",
    "olist_data3['order_approved_at'] = pd.to_datetime(olist_data3.order_approved_at)"
   ]
  },
  {
   "cell_type": "markdown",
   "id": "a62debca",
   "metadata": {},
   "source": [
    "### 2.2 Handling missing values"
   ]
  },
  {
   "cell_type": "code",
   "execution_count": 16,
   "id": "c22cb918",
   "metadata": {},
   "outputs": [],
   "source": [
    "#remove missing data in customer deliver date\n",
    "olist_cleaned = olist_data3.dropna(subset=['order_delivered_customer_date'])\n",
    "\n",
    "#select only delivered orders\n",
    "olist_cleaned = olist_cleaned[olist_cleaned[\"order_status\"] == \"delivered\"]\n",
    "olist_cleaned.reset_index(drop=True, inplace=True)"
   ]
  },
  {
   "cell_type": "code",
   "execution_count": 17,
   "id": "467329b7",
   "metadata": {},
   "outputs": [],
   "source": [
    "# remove missing data in customer and seller geolocation\n",
    "olist_cleaned2 = olist_cleaned.dropna(subset=['customer_geolocation_lat','seller_geolocation_lat','product_weight_g'], axis=0, how='any')\n",
    "\n",
    "#remove irrelevant columns\n",
    "olist_cleaned3 = olist_cleaned2.drop(columns=['order_approved_at','order_delivered_carrier_date',\"review_comment_title\",\"review_id\",\"review_comment_message\",'order_status',\n",
    "                                              \"review_creation_date\",\"review_answer_timestamp\",'product_name_lenght',\n",
    "                                              'product_description_lenght','product_category_name','product_photos_qty'\n",
    "                                             ])"
   ]
  },
  {
   "cell_type": "markdown",
   "id": "d890153d",
   "metadata": {},
   "source": [
    "### 2.3 Remove outliers"
   ]
  },
  {
   "cell_type": "code",
   "execution_count": 18,
   "id": "3c593070",
   "metadata": {},
   "outputs": [],
   "source": [
    "olist_cleaned3['total_delivery_days'] = (\n",
    "    olist_cleaned3.order_delivered_customer_date - olist_cleaned3.order_purchase_timestamp).dt.days"
   ]
  },
  {
   "cell_type": "code",
   "execution_count": 19,
   "id": "c28c9d43",
   "metadata": {},
   "outputs": [
    {
     "data": {
      "image/png": "[encoded data removed]",
      "text/plain": [
       "<Figure size 640x480 with 1 Axes>"
      ]
     },
     "metadata": {},
     "output_type": "display_data"
    }
   ],
   "source": [
    "sns.countplot(x='total_delivery_days',data=olist_cleaned3)\n",
    "plt.show()"
   ]
  },
  {
   "cell_type": "markdown",
   "id": "184e7975",
   "metadata": {},
   "source": [
    "As the distribution of total_delivery_days is skewed, the interquartile range method is used to remove outliers. "
   ]
  },
  {
   "cell_type": "code",
   "execution_count": 20,
   "id": "e2656ec5",
   "metadata": {},
   "outputs": [],
   "source": [
    "#filtered data\n",
    "import pandas as pd\n",
    "\n",
    "Q1 = olist_cleaned3['total_delivery_days'].quantile(0.25)\n",
    "Q3 = olist_cleaned3['total_delivery_days'].quantile(0.75)\n",
    "IQR = Q3 - Q1\n",
    "\n",
    "lower_bound = Q1 - 1.5 * IQR\n",
    "upper_bound = Q3 + 1.5 * IQR\n",
    "\n",
    "filtered_data = olist_cleaned3[(olist_cleaned3['total_delivery_days'] >= lower_bound) & \n",
    "                               (olist_cleaned3['total_delivery_days'] <= upper_bound)]"
   ]
  },
  {
   "cell_type": "code",
   "execution_count": 21,
   "id": "dd6bfd1d",
   "metadata": {},
   "outputs": [
    {
     "data": {
      "image/png": "[encoded data removed]",
      "text/plain": [
       "<Figure size 1200x600 with 1 Axes>"
      ]
     },
     "metadata": {},
     "output_type": "display_data"
    },
    {
     "data": {
      "image/png": "[encoded data removed]",
      "text/plain": [
       "<Figure size 1200x600 with 1 Axes>"
      ]
     },
     "metadata": {},
     "output_type": "display_data"
    }
   ],
   "source": [
    "import seaborn as sns\n",
    "import matplotlib.pyplot as plt\n",
    "\n",
    "# Plot before filtering\n",
    "plt.figure(figsize=(12, 6))\n",
    "sns.boxplot(x=olist_cleaned3['total_delivery_days'])\n",
    "plt.title('Boxplot of Total Delivery Days Before Filtering Outliers')\n",
    "plt.show()\n",
    "\n",
    "# Plot after filtering\n",
    "plt.figure(figsize=(12, 6))\n",
    "sns.boxplot(x=filtered_data['total_delivery_days'])\n",
    "plt.title('Boxplot of Total Delivery Days After Filtering Outliers')\n",
    "plt.show()"
   ]
  },
  {
   "cell_type": "markdown",
   "id": "d5c7c134",
   "metadata": {},
   "source": [
    "**Figure 2. Total Delivery Days from filtered data**\n",
    "\n",
    "Distribution of total_delivery_days from purchase to customer location"
   ]
  },
  {
   "cell_type": "code",
   "execution_count": 22,
   "id": "72cde61f",
   "metadata": {},
   "outputs": [
    {
     "data": {
      "image/png": "[encoded data removed]",
      "text/plain": [
       "<Figure size 640x480 with 1 Axes>"
      ]
     },
     "metadata": {},
     "output_type": "display_data"
    }
   ],
   "source": [
    "sns.countplot(x='total_delivery_days',data=filtered_data)\n",
    "plt.show()"
   ]
  },
  {
   "cell_type": "code",
   "execution_count": 23,
   "id": "44abb77a",
   "metadata": {},
   "outputs": [
    {
     "name": "stdout",
     "output_type": "stream",
     "text": [
      "Initial data points: 112645\n",
      "Data points after filtering: 107105\n",
      "Number of data points removed: 5540\n"
     ]
    }
   ],
   "source": [
    "#calculate data after removing outliers\n",
    "initial_count = olist_cleaned3.shape[0]\n",
    "filtered_count = filtered_data.shape[0]\n",
    "\n",
    "data_removed = initial_count - filtered_count\n",
    "\n",
    "print(f'Initial data points: {initial_count}')\n",
    "print(f'Data points after filtering: {filtered_count}')\n",
    "print(f'Number of data points removed: {data_removed}')"
   ]
  },
  {
   "cell_type": "markdown",
   "id": "f51b5975",
   "metadata": {},
   "source": [
    "### 2.4 Create dummy variables"
   ]
  },
  {
   "cell_type": "code",
   "execution_count": 24,
   "id": "cb154d1d",
   "metadata": {},
   "outputs": [],
   "source": [
    "# create a month dummy\n",
    "filtered_data['month'] = filtered_data['order_purchase_timestamp'].dt.month\n",
    "filtered_data['month_name'] = filtered_data['order_purchase_timestamp'].dt.strftime('%B')\n",
    "\n",
    "# create a day of the week dummy\n",
    "filtered_data['weekday'] = filtered_data['order_purchase_timestamp'].dt.dayofweek\n",
    "\n",
    "filtered_data['weekdays_name'] = filtered_data['order_purchase_timestamp'].dt.day_name()\n",
    "\n",
    "# create a day of the month dummy\n",
    "filtered_data['dayofmonth'] = filtered_data['order_purchase_timestamp'].dt.day\n",
    "filtered_data['year'] = filtered_data['order_purchase_timestamp'].dt.year\n",
    "\n",
    "\n",
    "# create hour period dummy\n",
    "filtered_data['hour'] = filtered_data['order_purchase_timestamp'].apply(lambda x: x.hour)\n",
    "hours_time = [-0.1, 6, 12, 18, 23]\n",
    "hours_period = ['Dawn', 'Morning', 'Afternoon', 'Night']\n",
    "filtered_data['hour_period'] = pd.cut(filtered_data['hour'], hours_time, labels=hours_period)"
   ]
  },
  {
   "cell_type": "markdown",
   "id": "d5635974",
   "metadata": {},
   "source": [
    "### Feature 1: Month "
   ]
  },
  {
   "cell_type": "code",
   "execution_count": 25,
   "id": "adf913be",
   "metadata": {},
   "outputs": [
    {
     "data": {
      "image/png": "[encoded data removed]",
      "text/plain": [
       "<Figure size 1200x600 with 1 Axes>"
      ]
     },
     "metadata": {},
     "output_type": "display_data"
    }
   ],
   "source": [
    "plt.figure(figsize=(12, 6))\n",
    "month_order = ['January', 'February', 'March', 'April', 'May', 'June', \n",
    "               'July', 'August', 'September', 'October', 'November', 'December']\n",
    "ax = sns.countplot(x='month_name', data=filtered_data, order=month_order)\n",
    "##boxplot only include late"
   ]
  },
  {
   "cell_type": "markdown",
   "id": "14600f12",
   "metadata": {},
   "source": [
    "### Feature 2: Hour_period"
   ]
  },
  {
   "cell_type": "code",
   "execution_count": 26,
   "id": "84952c5b",
   "metadata": {},
   "outputs": [
    {
     "data": {
      "image/png": "[encoded data removed]",
      "text/plain": [
       "<Figure size 1200x600 with 1 Axes>"
      ]
     },
     "metadata": {},
     "output_type": "display_data"
    }
   ],
   "source": [
    "plt.figure(figsize=(12, 6))\n",
    "ax = sns.countplot(x='hour_period', data=filtered_data)"
   ]
  },
  {
   "cell_type": "markdown",
   "id": "eb6f1d4b",
   "metadata": {},
   "source": [
    "### Feature 3: Weekdays"
   ]
  },
  {
   "cell_type": "code",
   "execution_count": 27,
   "id": "dc952f73",
   "metadata": {},
   "outputs": [
    {
     "data": {
      "image/png": "[encoded data removed]",
      "text/plain": [
       "<Figure size 1200x600 with 1 Axes>"
      ]
     },
     "metadata": {},
     "output_type": "display_data"
    }
   ],
   "source": [
    "plt.figure(figsize=(12, 6))\n",
    "weekday_order = ['Monday', 'Tuesday', 'Wednesday', 'Thursday', 'Friday', 'Saturday', 'Sunday']\n",
    "ax = sns.countplot(x='weekdays_name', data=filtered_data,order=weekday_order)"
   ]
  },
  {
   "cell_type": "markdown",
   "id": "3cd7d705",
   "metadata": {},
   "source": [
    "### Feature 4: Customer Region"
   ]
  },
  {
   "cell_type": "code",
   "execution_count": 28,
   "id": "3a6ca520",
   "metadata": {},
   "outputs": [],
   "source": [
    "#customer location from customer_state\n",
    "state_to_region = {\n",
    "    'AC': 'North', 'AL': 'Northeast', 'AM': 'North', 'AP': 'North', 'BA': 'Northeast',\n",
    "    'CE': 'Northeast', 'DF': 'Central-West', 'ES': 'Southeast', 'GO': 'Central-West',\n",
    "    'MA': 'Northeast', 'MG': 'Southeast', 'MS': 'Central-West', 'MT': 'Central-West',\n",
    "    'PA': 'North', 'PB': 'Northeast', 'PE': 'Northeast', 'PI': 'Northeast',\n",
    "    'PR': 'South', 'RJ': 'Southeast', 'RN': 'Northeast', 'RO': 'North', 'RR': 'North',\n",
    "    'RS': 'South', 'SC': 'South', 'SE': 'Northeast', 'SP': 'Southeast', 'TO': 'North'\n",
    "}\n",
    "\n",
    "filtered_data['customer_region'] = filtered_data['customer_state'].map(state_to_region)"
   ]
  },
  {
   "cell_type": "code",
   "execution_count": 29,
   "id": "feecc409",
   "metadata": {},
   "outputs": [
    {
     "data": {
      "image/png": "[encoded data removed]",
      "text/plain": [
       "<Figure size 1200x600 with 1 Axes>"
      ]
     },
     "metadata": {},
     "output_type": "display_data"
    }
   ],
   "source": [
    "plt.figure(figsize=(12, 6))\n",
    "ax = sns.countplot(x='customer_region', data=filtered_data)"
   ]
  },
  {
   "cell_type": "markdown",
   "id": "77bebae4",
   "metadata": {},
   "source": [
    "### Feature 5: Seller Region"
   ]
  },
  {
   "cell_type": "code",
   "execution_count": 30,
   "id": "cb80af35",
   "metadata": {},
   "outputs": [],
   "source": [
    "#seller location from seller_state\n",
    "state_to_region2 = {\n",
    "    'AM': 'North', 'BA': 'Northeast', 'CE': 'Northeast', 'DF': 'Central-West', \n",
    "    'ES': 'Southeast', 'GO': 'Central-West', 'MA': 'Northeast', 'MG': 'Southeast', \n",
    "    'MS': 'Central-West', 'MT': 'Central-West', 'PA': 'North', 'PB': 'Northeast', \n",
    "    'PE': 'Northeast', 'PI': 'Northeast', 'PR': 'South', 'RJ': 'Southeast', \n",
    "    'RN': 'Northeast', 'RO': 'North', 'RS': 'South', 'SC': 'South', 'SE': 'Northeast', \n",
    "    'SP': 'Southeast'\n",
    "}\n",
    "\n",
    "filtered_data['seller_region'] = filtered_data['seller_state'].map(state_to_region2)"
   ]
  },
  {
   "cell_type": "code",
   "execution_count": 31,
   "id": "47150a54",
   "metadata": {},
   "outputs": [
    {
     "data": {
      "image/png": "[encoded data removed]",
      "text/plain": [
       "<Figure size 1200x600 with 1 Axes>"
      ]
     },
     "metadata": {},
     "output_type": "display_data"
    }
   ],
   "source": [
    "plt.figure(figsize=(12, 6))\n",
    "ax = sns.countplot(x='seller_region', data=filtered_data)"
   ]
  },
  {
   "cell_type": "markdown",
   "id": "283ceb45",
   "metadata": {},
   "source": [
    "### Feature 6: Product_Category"
   ]
  },
  {
   "cell_type": "code",
   "execution_count": 32,
   "id": "a1cbb2f4",
   "metadata": {},
   "outputs": [
    {
     "name": "stdout",
     "output_type": "stream",
     "text": [
      "product_category_name_english\n",
      "bed_bath_table                             11085\n",
      "health_beauty                               9216\n",
      "sports_leisure                              8328\n",
      "furniture_decor                             8117\n",
      "computers_accessories                       7488\n",
      "housewares                                  6898\n",
      "watches_gifts                               5671\n",
      "telephony                                   4316\n",
      "garden_tools                                4217\n",
      "auto                                        4031\n",
      "toys                                        3939\n",
      "cool_stuff                                  3678\n",
      "perfumery                                   3300\n",
      "baby                                        2898\n",
      "electronics                                 2563\n",
      "stationery                                  2393\n",
      "fashion_bags_accessories                    2021\n",
      "pet_shop                                    1912\n",
      "office_furniture                            1463\n",
      "others                                      1159\n",
      "luggage_accessories                         1115\n",
      "consoles_games                              1056\n",
      "construction_tools_construction              897\n",
      "home_appliances                              778\n",
      "small_appliances                             654\n",
      "musical_instruments                          646\n",
      "home_construction                            599\n",
      "books_general_interest                       520\n",
      "food                                         485\n",
      "home_confort                                 446\n",
      "furniture_living_room                        431\n",
      "drinks                                       359\n",
      "audio                                        346\n",
      "market_place                                 311\n",
      "construction_tools_lights                    297\n",
      "kitchen_dining_laundry_garden_furniture      276\n",
      "air_conditioning                             272\n",
      "food_drink                                   271\n",
      "books_technical                              261\n",
      "industry_commerce_and_business               257\n",
      "fashion_shoes                                252\n",
      "home_appliances_2                            249\n",
      "fixed_telephony                              247\n",
      "agro_industry_and_commerce                   240\n",
      "costruction_tools_garden                     235\n",
      "computers                                    203\n",
      "art                                          202\n",
      "signaling_and_security                       190\n",
      "construction_tools_safety                    182\n",
      "christmas_supplies                           135\n",
      "Name: count, dtype: int64\n"
     ]
    }
   ],
   "source": [
    "# select categories within the 99th percentile\n",
    "category_counts = filtered_data['product_category_name_english'].value_counts()\n",
    "cumulative_percentage = category_counts.cumsum() / category_counts.sum() * 100\n",
    "\n",
    "#create list for 99th percentile category\n",
    "categories_to_keep = cumulative_percentage[cumulative_percentage <= 99].index.tolist()\n",
    "\n",
    "# create categories for the 1% as 'others'\n",
    "filtered_data['product_category_name_english'] = filtered_data['product_category_name_english'].apply(\n",
    "    lambda x: x if x in categories_to_keep else 'others'\n",
    ")\n",
    "print(filtered_data['product_category_name_english'].value_counts())"
   ]
  },
  {
   "cell_type": "code",
   "execution_count": 33,
   "id": "56f6c266",
   "metadata": {},
   "outputs": [
    {
     "data": {
      "image/png": "[encoded data removed]",
      "text/plain": [
       "<Figure size 1200x600 with 1 Axes>"
      ]
     },
     "metadata": {},
     "output_type": "display_data"
    }
   ],
   "source": [
    "plt.figure(figsize=(12, 6))\n",
    "sns.countplot(x='product_category_name_english', data=filtered_data)\n",
    "plt.show()"
   ]
  },
  {
   "cell_type": "markdown",
   "id": "70ed87d9",
   "metadata": {},
   "source": [
    "## 2.5 Feature Scaling"
   ]
  },
  {
   "cell_type": "markdown",
   "id": "a3d61962",
   "metadata": {},
   "source": [
    "### Feature 7: Product Weight"
   ]
  },
  {
   "cell_type": "code",
   "execution_count": 34,
   "id": "921b2394",
   "metadata": {},
   "outputs": [],
   "source": [
    "import pandas as pd\n",
    "from sklearn.preprocessing import MinMaxScaler\n",
    "scaler = MinMaxScaler()\n",
    "filtered_data['scaled_product_weight_g'] = scaler.fit_transform(filtered_data[['product_weight_g']])"
   ]
  },
  {
   "cell_type": "code",
   "execution_count": 35,
   "id": "3e9a5d17",
   "metadata": {},
   "outputs": [
    {
     "data": {
      "text/plain": [
       "count    107105.00\n",
       "mean          0.05\n",
       "std           0.09\n",
       "min           0.00\n",
       "25%           0.01\n",
       "50%           0.02\n",
       "75%           0.04\n",
       "max           1.00\n",
       "Name: scaled_product_weight_g, dtype: float64"
      ]
     },
     "execution_count": 35,
     "metadata": {},
     "output_type": "execute_result"
    }
   ],
   "source": [
    "filtered_data['scaled_product_weight_g'].describe().round(2)"
   ]
  },
  {
   "cell_type": "markdown",
   "id": "299b6376",
   "metadata": {},
   "source": [
    "### Feature 8: Product Volume (width, length, height)"
   ]
  },
  {
   "cell_type": "code",
   "execution_count": 36,
   "id": "f376a2da",
   "metadata": {},
   "outputs": [],
   "source": [
    "#calculate product volume\n",
    "filtered_data['product_volume'] = filtered_data['product_length_cm'] * filtered_data['product_width_cm'] * filtered_data['product_height_cm']\n",
    "filtered_data = filtered_data.drop(columns=['product_length_cm','product_width_cm','product_height_cm'])"
   ]
  },
  {
   "cell_type": "code",
   "execution_count": 37,
   "id": "57c3504e",
   "metadata": {},
   "outputs": [],
   "source": [
    "#feature scaling\n",
    "scaler = MinMaxScaler()\n",
    "filtered_data['scaled_product_volume'] = scaler.fit_transform(filtered_data[['product_volume']])"
   ]
  },
  {
   "cell_type": "code",
   "execution_count": 38,
   "id": "c95fcd80",
   "metadata": {},
   "outputs": [
    {
     "data": {
      "text/plain": [
       "count    107105.00\n",
       "mean          0.05\n",
       "std           0.08\n",
       "min           0.00\n",
       "25%           0.01\n",
       "50%           0.02\n",
       "75%           0.06\n",
       "max           1.00\n",
       "Name: scaled_product_volume, dtype: float64"
      ]
     },
     "execution_count": 38,
     "metadata": {},
     "output_type": "execute_result"
    }
   ],
   "source": [
    "filtered_data['scaled_product_volume'].describe().round(2)"
   ]
  },
  {
   "cell_type": "markdown",
   "id": "550af655",
   "metadata": {},
   "source": [
    "### Feature 9: Shipping distance "
   ]
  },
  {
   "cell_type": "code",
   "execution_count": 39,
   "id": "158d7fe9",
   "metadata": {},
   "outputs": [],
   "source": [
    "from geopy.distance import geodesic\n",
    "import pandas as pd"
   ]
  },
  {
   "cell_type": "code",
   "execution_count": 40,
   "id": "2c824d09",
   "metadata": {},
   "outputs": [],
   "source": [
    "def calculate_distance(row):\n",
    "    # Define the origin and destination using the seller's and customer's latitudes and longitudes\n",
    "    origin = (row[\"seller_geolocation_lat\"], row[\"seller_geolocation_lng\"])\n",
    "    destination = (row[\"customer_geolocation_lat\"], row[\"customer_geolocation_lng\"])\n",
    "    \n",
    "    # Calculate geodesic distance\n",
    "    return geodesic(origin, destination).kilometers"
   ]
  },
  {
   "cell_type": "code",
   "execution_count": 41,
   "id": "81018bb3",
   "metadata": {},
   "outputs": [],
   "source": [
    "filtered_data['distance_km'] = filtered_data.apply(calculate_distance, axis=1)"
   ]
  },
  {
   "cell_type": "code",
   "execution_count": 42,
   "id": "4063a10b",
   "metadata": {},
   "outputs": [],
   "source": [
    "#feature scaling\n",
    "scaler = MinMaxScaler()\n",
    "filtered_data['scaled_distance_km'] = scaler.fit_transform(filtered_data[['distance_km']])"
   ]
  },
  {
   "cell_type": "code",
   "execution_count": 43,
   "id": "677f587b",
   "metadata": {},
   "outputs": [
    {
     "data": {
      "text/plain": [
       "count    107105.00\n",
       "mean          0.07\n",
       "std           0.07\n",
       "min           0.00\n",
       "25%           0.02\n",
       "50%           0.05\n",
       "75%           0.09\n",
       "max           1.00\n",
       "Name: scaled_distance_km, dtype: float64"
      ]
     },
     "execution_count": 43,
     "metadata": {},
     "output_type": "execute_result"
    }
   ],
   "source": [
    "filtered_data['scaled_distance_km'].describe().round(2)"
   ]
  },
  {
   "cell_type": "markdown",
   "id": "933aa959",
   "metadata": {},
   "source": [
    "## 2.6 Feature Engineering"
   ]
  },
  {
   "cell_type": "markdown",
   "id": "dd56d455",
   "metadata": {},
   "source": [
    "### Feature 10: Weather\n",
    "Weather Conditions: Integrate using an API."
   ]
  },
  {
   "cell_type": "code",
   "execution_count": 44,
   "id": "2d91ee07",
   "metadata": {},
   "outputs": [],
   "source": [
    "import requests\n",
    "import csv\n",
    "import sys\n",
    "from io import StringIO\n",
    "\n",
    "# Fetch weather data via API (This is just a placeholder for the correct URL and your API key)\n",
    "weather_response = requests.get(\"https://weather.visualcrossing.com/VisualCrossingWebServices/rest/services/timeline/-23.57698293467452%2C-46.587161274276774/2016-10-01/2018-11-01?unitGroup=metric&include=days&key=3PTMTT7NN3FP9HWY2V5A327UJ&contentType=csv\")\n",
    "\n",
    "# Check for successful response\n",
    "if weather_response.status_code != 200:\n",
    "    print('Unexpected Status code:', weather_response.status_code)\n",
    "    sys.exit()\n",
    "\n",
    "# Parse the CSV response\n",
    "csv_data = StringIO(weather_response.text)\n",
    "csv_reader = csv.DictReader(csv_data)\n",
    "\n",
    "# Process the weather data to find days with rain\n",
    "rainy_days = set()\n",
    "for row in csv_reader:\n",
    "    if row['preciptype'] == 'rain':\n",
    "        # If there's any precipitation logged, consider it a rainy day\n",
    "        rainy_days.add(row['datetime'])"
   ]
  },
  {
   "cell_type": "code",
   "execution_count": 45,
   "id": "5fe39350",
   "metadata": {},
   "outputs": [],
   "source": [
    "# Assume 'order_delivered_customer_date' is a datetime column in merged_df\n",
    "# You will need to iterate through the dataset and check each delivery date and the two days before\n",
    "\n",
    "def was_rainy_on_delivery(date_str, rainy_days_set):\n",
    "    # Check if the string is a valid date\n",
    "    if pd.isnull(date_str):\n",
    "        return 0\n",
    "    \n",
    "    # Convert the string to a datetime object\n",
    "    delivery_date = pd.to_datetime(date_str).date()\n",
    "    \n",
    "    # Check the delivery day and two days prior for rain\n",
    "    for days_before in range(3):  # Check delivery day and two days before\n",
    "        check_date = delivery_date - pd.Timedelta(days=days_before)\n",
    "        if str(check_date) in rainy_days_set:\n",
    "            return 1\n",
    "    return 0\n",
    "\n",
    "# Create the binary feature\n",
    "filtered_data['rain_on_delivery'] = filtered_data['order_delivered_customer_date'].apply(\n",
    "    lambda x: was_rainy_on_delivery(x, rainy_days)\n",
    ")"
   ]
  },
  {
   "cell_type": "code",
   "execution_count": 46,
   "id": "1634adbb",
   "metadata": {},
   "outputs": [],
   "source": [
    "# weather data from file retail_data_weather.csv \n",
    "import pandas as pd\n",
    "weather_data = pd.read_csv(\"retail_data_weather.csv\")\n",
    "\n",
    "#change data type\n",
    "weather_data['order_delivered_customer_date'] = pd.to_datetime(weather_data.order_delivered_customer_date)"
   ]
  },
  {
   "cell_type": "code",
   "execution_count": 47,
   "id": "22b0d0e3",
   "metadata": {},
   "outputs": [],
   "source": [
    "filtered_data = pd.merge(filtered_data, weather_data[['order_delivered_customer_date', 'rain_on_delivery']], \n",
    "                       how='left', on='order_delivered_customer_date')"
   ]
  },
  {
   "cell_type": "code",
   "execution_count": 48,
   "id": "b72d639c",
   "metadata": {},
   "outputs": [
    {
     "name": "stdout",
     "output_type": "stream",
     "text": [
      "<class 'pandas.core.frame.DataFrame'>\n",
      "RangeIndex: 108958 entries, 0 to 108957\n",
      "Data columns (total 47 columns):\n",
      " #   Column                         Non-Null Count   Dtype         \n",
      "---  ------                         --------------   -----         \n",
      " 0   order_id                       108958 non-null  object        \n",
      " 1   customer_id                    108958 non-null  object        \n",
      " 2   order_purchase_timestamp       108958 non-null  datetime64[ns]\n",
      " 3   order_delivered_customer_date  108958 non-null  datetime64[ns]\n",
      " 4   order_estimated_delivery_date  108958 non-null  datetime64[ns]\n",
      " 5   customer_unique_id             108958 non-null  object        \n",
      " 6   customer_zip_code_prefix       108958 non-null  int64         \n",
      " 7   customer_city                  108958 non-null  object        \n",
      " 8   customer_state                 108958 non-null  object        \n",
      " 9   order_item_id                  108958 non-null  int64         \n",
      " 10  product_id                     108958 non-null  object        \n",
      " 11  seller_id                      108958 non-null  object        \n",
      " 12  shipping_limit_date            108958 non-null  datetime64[ns]\n",
      " 13  price                          108958 non-null  float64       \n",
      " 14  freight_value                  108958 non-null  float64       \n",
      " 15  product_weight_g               108958 non-null  float64       \n",
      " 16  product_category_name_english  108958 non-null  object        \n",
      " 17  payment_sequential             108958 non-null  int64         \n",
      " 18  payment_type                   108958 non-null  object        \n",
      " 19  payment_installments           108958 non-null  int64         \n",
      " 20  payment_value                  108958 non-null  float64       \n",
      " 21  seller_zip_code_prefix         108958 non-null  int64         \n",
      " 22  seller_city                    108958 non-null  object        \n",
      " 23  seller_state                   108958 non-null  object        \n",
      " 24  review_score                   108958 non-null  int64         \n",
      " 25  customer_geolocation_lat       108958 non-null  float64       \n",
      " 26  customer_geolocation_lng       108958 non-null  float64       \n",
      " 27  seller_geolocation_lat         108958 non-null  float64       \n",
      " 28  seller_geolocation_lng         108958 non-null  float64       \n",
      " 29  total_delivery_days            108958 non-null  int64         \n",
      " 30  month                          108958 non-null  int32         \n",
      " 31  month_name                     108958 non-null  object        \n",
      " 32  weekday                        108958 non-null  int32         \n",
      " 33  weekdays_name                  108958 non-null  object        \n",
      " 34  dayofmonth                     108958 non-null  int32         \n",
      " 35  year                           108958 non-null  int32         \n",
      " 36  hour                           108958 non-null  int64         \n",
      " 37  hour_period                    108958 non-null  category      \n",
      " 38  customer_region                108958 non-null  object        \n",
      " 39  seller_region                  108958 non-null  object        \n",
      " 40  scaled_product_weight_g        108958 non-null  float64       \n",
      " 41  product_volume                 108958 non-null  float64       \n",
      " 42  scaled_product_volume          108958 non-null  float64       \n",
      " 43  distance_km                    108958 non-null  float64       \n",
      " 44  scaled_distance_km             108958 non-null  float64       \n",
      " 45  rain_on_delivery_x             108958 non-null  int64         \n",
      " 46  rain_on_delivery_y             108958 non-null  int64         \n",
      "dtypes: category(1), datetime64[ns](4), float64(13), int32(4), int64(10), object(15)\n",
      "memory usage: 36.7+ MB\n"
     ]
    }
   ],
   "source": [
    "filtered_data.info()"
   ]
  },
  {
   "cell_type": "markdown",
   "id": "14d117dd",
   "metadata": {},
   "source": [
    "### Feature 11: Holiday"
   ]
  },
  {
   "cell_type": "markdown",
   "id": "d2954969",
   "metadata": {},
   "source": [
    "Integration with External Data Sources: Include via a CSV file \"Festivals and Public Holidays\"."
   ]
  },
  {
   "cell_type": "code",
   "execution_count": 49,
   "id": "a711b2c9",
   "metadata": {},
   "outputs": [
    {
     "data": {
      "text/html": [
       "<div>\n",
       "<style scoped>\n",
       "    .dataframe tbody tr th:only-of-type {\n",
       "        vertical-align: middle;\n",
       "    }\n",
       "\n",
       "    .dataframe tbody tr th {\n",
       "        vertical-align: top;\n",
       "    }\n",
       "\n",
       "    .dataframe thead th {\n",
       "        text-align: right;\n",
       "    }\n",
       "</style>\n",
       "<table border=\"1\" class=\"dataframe\">\n",
       "  <thead>\n",
       "    <tr style=\"text-align: right;\">\n",
       "      <th></th>\n",
       "      <th>order_purchase_timestamp</th>\n",
       "      <th>purchase_on_holiday</th>\n",
       "      <th>delivery_on_holiday</th>\n",
       "      <th>order_delivered_customer_date</th>\n",
       "    </tr>\n",
       "  </thead>\n",
       "  <tbody>\n",
       "    <tr>\n",
       "      <th>0</th>\n",
       "      <td>2017-10-02 10:56:33</td>\n",
       "      <td>0</td>\n",
       "      <td>1</td>\n",
       "      <td>2017-10-10 21:25:13</td>\n",
       "    </tr>\n",
       "    <tr>\n",
       "      <th>1</th>\n",
       "      <td>2017-10-02 10:56:33</td>\n",
       "      <td>0</td>\n",
       "      <td>1</td>\n",
       "      <td>2017-10-10 21:25:13</td>\n",
       "    </tr>\n",
       "    <tr>\n",
       "      <th>2</th>\n",
       "      <td>2017-10-02 10:56:33</td>\n",
       "      <td>0</td>\n",
       "      <td>1</td>\n",
       "      <td>2017-10-10 21:25:13</td>\n",
       "    </tr>\n",
       "    <tr>\n",
       "      <th>3</th>\n",
       "      <td>2017-08-15 18:29:31</td>\n",
       "      <td>0</td>\n",
       "      <td>0</td>\n",
       "      <td>2017-08-18 14:44:43</td>\n",
       "    </tr>\n",
       "    <tr>\n",
       "      <th>4</th>\n",
       "      <td>2017-08-02 18:24:47</td>\n",
       "      <td>0</td>\n",
       "      <td>0</td>\n",
       "      <td>2017-08-07 18:30:01</td>\n",
       "    </tr>\n",
       "    <tr>\n",
       "      <th>...</th>\n",
       "      <td>...</td>\n",
       "      <td>...</td>\n",
       "      <td>...</td>\n",
       "      <td>...</td>\n",
       "    </tr>\n",
       "    <tr>\n",
       "      <th>108953</th>\n",
       "      <td>2018-08-21 11:29:05</td>\n",
       "      <td>0</td>\n",
       "      <td>0</td>\n",
       "      <td>2018-08-24 13:06:25</td>\n",
       "    </tr>\n",
       "    <tr>\n",
       "      <th>108954</th>\n",
       "      <td>2018-07-28 17:55:27</td>\n",
       "      <td>0</td>\n",
       "      <td>0</td>\n",
       "      <td>2018-08-03 17:46:46</td>\n",
       "    </tr>\n",
       "    <tr>\n",
       "      <th>108955</th>\n",
       "      <td>2018-08-23 12:31:37</td>\n",
       "      <td>0</td>\n",
       "      <td>0</td>\n",
       "      <td>2018-08-28 02:06:35</td>\n",
       "    </tr>\n",
       "    <tr>\n",
       "      <th>108956</th>\n",
       "      <td>2018-07-23 18:35:14</td>\n",
       "      <td>0</td>\n",
       "      <td>0</td>\n",
       "      <td>2018-07-27 14:04:10</td>\n",
       "    </tr>\n",
       "    <tr>\n",
       "      <th>108957</th>\n",
       "      <td>2018-07-23 18:35:14</td>\n",
       "      <td>0</td>\n",
       "      <td>0</td>\n",
       "      <td>2018-07-27 14:04:10</td>\n",
       "    </tr>\n",
       "  </tbody>\n",
       "</table>\n",
       "<p>108958 rows × 4 columns</p>\n",
       "</div>"
      ],
      "text/plain": [
       "       order_purchase_timestamp  purchase_on_holiday  delivery_on_holiday  \\\n",
       "0           2017-10-02 10:56:33                    0                    1   \n",
       "1           2017-10-02 10:56:33                    0                    1   \n",
       "2           2017-10-02 10:56:33                    0                    1   \n",
       "3           2017-08-15 18:29:31                    0                    0   \n",
       "4           2017-08-02 18:24:47                    0                    0   \n",
       "...                         ...                  ...                  ...   \n",
       "108953      2018-08-21 11:29:05                    0                    0   \n",
       "108954      2018-07-28 17:55:27                    0                    0   \n",
       "108955      2018-08-23 12:31:37                    0                    0   \n",
       "108956      2018-07-23 18:35:14                    0                    0   \n",
       "108957      2018-07-23 18:35:14                    0                    0   \n",
       "\n",
       "       order_delivered_customer_date  \n",
       "0                2017-10-10 21:25:13  \n",
       "1                2017-10-10 21:25:13  \n",
       "2                2017-10-10 21:25:13  \n",
       "3                2017-08-18 14:44:43  \n",
       "4                2017-08-07 18:30:01  \n",
       "...                              ...  \n",
       "108953           2018-08-24 13:06:25  \n",
       "108954           2018-08-03 17:46:46  \n",
       "108955           2018-08-28 02:06:35  \n",
       "108956           2018-07-27 14:04:10  \n",
       "108957           2018-07-27 14:04:10  \n",
       "\n",
       "[108958 rows x 4 columns]"
      ]
     },
     "execution_count": 49,
     "metadata": {},
     "output_type": "execute_result"
    }
   ],
   "source": [
    "holidays_df = pd.read_csv('Brazil_holiday.csv', parse_dates=['DATE'])\n",
    "\n",
    "# Create a date range for holidays considering 5 days before and after\n",
    "holiday_range = pd.concat([\n",
    "    (holidays_df['DATE'] + pd.Timedelta(days=delta)).dt.date\n",
    "    for delta in range(-5, 6)\n",
    "]).drop_duplicates()\n",
    "\n",
    "# Create a binary feature for whether the order was made on a holiday or within the 5 days before/after\n",
    "filtered_data['purchase_on_holiday'] = filtered_data['order_purchase_timestamp'].dt.date.isin(holiday_range).astype(int)\n",
    "filtered_data['delivery_on_holiday'] = filtered_data['order_delivered_customer_date'].dt.date.isin(holiday_range).astype(int)\n",
    "\n",
    "# Display the first few entries to ensure the 'is_holiday' feature has been added correctly\n",
    "filtered_data[['order_purchase_timestamp', 'purchase_on_holiday','delivery_on_holiday','order_delivered_customer_date']]"
   ]
  },
  {
   "cell_type": "markdown",
   "id": "f06204cb",
   "metadata": {},
   "source": [
    "## 2.7 Class imbalance Oversampling"
   ]
  },
  {
   "cell_type": "code",
   "execution_count": 50,
   "id": "21d0205a",
   "metadata": {},
   "outputs": [
    {
     "data": {
      "image/png": "[encoded data removed]",
      "text/plain": [
       "<Figure size 640x480 with 1 Axes>"
      ]
     },
     "metadata": {},
     "output_type": "display_data"
    }
   ],
   "source": [
    "#delay exact calculation\n",
    "filtered_data['delayed_exact']= (filtered_data.order_delivered_customer_date- filtered_data.order_estimated_delivery_date)\n",
    "filtered_data['late_label'] = np.where(filtered_data['delayed_exact'] > pd.Timedelta(0), 1, 0)\n",
    "sns.countplot(x='late_label', data=filtered_data)\n",
    "plt.show()"
   ]
  },
  {
   "cell_type": "code",
   "execution_count": 51,
   "id": "7a8cc1b7",
   "metadata": {},
   "outputs": [
    {
     "data": {
      "text/plain": [
       "late_label\n",
       "0    95.966336\n",
       "1     4.033664\n",
       "Name: count, dtype: float64"
      ]
     },
     "execution_count": 51,
     "metadata": {},
     "output_type": "execute_result"
    }
   ],
   "source": [
    "filtered_data['late_label'].value_counts() /filtered_data['late_label'].count() * 100"
   ]
  },
  {
   "cell_type": "markdown",
   "id": "0f309bed",
   "metadata": {},
   "source": [
    "## 3.Test Train split"
   ]
  },
  {
   "cell_type": "code",
   "execution_count": 52,
   "id": "7d3722a0",
   "metadata": {},
   "outputs": [],
   "source": [
    "from sklearn.pipeline import Pipeline\n",
    "from sklearn.preprocessing import StandardScaler\n",
    "from sklearn.model_selection import train_test_split\n",
    "from sklearn.impute import SimpleImputer\n",
    "from sklearn.preprocessing import OneHotEncoder, OrdinalEncoder\n",
    "from sklearn.pipeline import FeatureUnion\n",
    "from sklearn.base import BaseEstimator, TransformerMixin\n",
    "\n",
    "#Models\n",
    "from sklearn.linear_model import LogisticRegression\n",
    "from sklearn.tree import DecisionTreeClassifier\n",
    "from sklearn.ensemble import RandomForestClassifier\n",
    "from sklearn.svm import SVC\n",
    "\n",
    "\n",
    "# Model evaluation und visualisation\n",
    "from sklearn.metrics import accuracy_score\n",
    "from sklearn.model_selection import cross_val_score\n",
    "from sklearn.metrics import confusion_matrix\n",
    "from sklearn.metrics import roc_curve\n",
    "from sklearn.metrics import roc_auc_score\n",
    "from sklearn.metrics import precision_recall_curve\n",
    "\n",
    "# Hyperparameter optimisation\n",
    "from sklearn.model_selection import GridSearchCV\n",
    "\n",
    "# to make this notebook's output stable across runs\n",
    "np.random.seed(42)"
   ]
  },
  {
   "cell_type": "code",
   "execution_count": 57,
   "id": "aeabd66a",
   "metadata": {},
   "outputs": [],
   "source": [
    "#select features\n",
    "feature_to_select = [\n",
    "    'month_name', \n",
    "    'hour_period', \n",
    "    'weekdays_name', \n",
    "    'late_label', \n",
    "    'customer_region', \n",
    "    'seller_region', \n",
    "    'product_category_name_english', \n",
    "    'scaled_product_weight_g', \n",
    "    'scaled_product_volume',\n",
    "    'scaled_distance_km',\n",
    "    'rain_on_delivery_x',\n",
    "    'delivery_on_holiday',\n",
    "    'purchase_on_holiday'\n",
    "]"
   ]
  },
  {
   "cell_type": "code",
   "execution_count": 58,
   "id": "1bae1539",
   "metadata": {},
   "outputs": [],
   "source": [
    "new_df = filtered_data[feature_to_select]"
   ]
  },
  {
   "cell_type": "code",
   "execution_count": 59,
   "id": "86edd3c2",
   "metadata": {},
   "outputs": [],
   "source": [
    "new_df['hour_period'] = new_df['hour_period'].astype('object')"
   ]
  },
  {
   "cell_type": "code",
   "execution_count": 60,
   "id": "79cc2f1b",
   "metadata": {},
   "outputs": [
    {
     "name": "stdout",
     "output_type": "stream",
     "text": [
      "<class 'pandas.core.frame.DataFrame'>\n",
      "RangeIndex: 108958 entries, 0 to 108957\n",
      "Data columns (total 13 columns):\n",
      " #   Column                         Non-Null Count   Dtype  \n",
      "---  ------                         --------------   -----  \n",
      " 0   month_name                     108958 non-null  object \n",
      " 1   hour_period                    108958 non-null  object \n",
      " 2   weekdays_name                  108958 non-null  object \n",
      " 3   late_label                     108958 non-null  int64  \n",
      " 4   customer_region                108958 non-null  object \n",
      " 5   seller_region                  108958 non-null  object \n",
      " 6   product_category_name_english  108958 non-null  object \n",
      " 7   scaled_product_weight_g        108958 non-null  float64\n",
      " 8   scaled_product_volume          108958 non-null  float64\n",
      " 9   scaled_distance_km             108958 non-null  float64\n",
      " 10  rain_on_delivery_x             108958 non-null  int64  \n",
      " 11  delivery_on_holiday            108958 non-null  int64  \n",
      " 12  purchase_on_holiday            108958 non-null  int64  \n",
      "dtypes: float64(3), int64(4), object(6)\n",
      "memory usage: 10.8+ MB\n"
     ]
    }
   ],
   "source": [
    "new_df.info()"
   ]
  },
  {
   "cell_type": "code",
   "execution_count": 61,
   "id": "2569e1af",
   "metadata": {},
   "outputs": [
    {
     "data": {
      "text/plain": [
       "month_name                          12\n",
       "hour_period                          4\n",
       "weekdays_name                        7\n",
       "late_label                           2\n",
       "customer_region                      5\n",
       "seller_region                        5\n",
       "product_category_name_english       50\n",
       "scaled_product_weight_g           2134\n",
       "scaled_product_volume             4337\n",
       "scaled_distance_km               85128\n",
       "rain_on_delivery_x                   2\n",
       "delivery_on_holiday                  2\n",
       "purchase_on_holiday                  2\n",
       "dtype: int64"
      ]
     },
     "execution_count": 61,
     "metadata": {},
     "output_type": "execute_result"
    }
   ],
   "source": [
    "new_df.apply(pd.Series.nunique)"
   ]
  },
  {
   "cell_type": "code",
   "execution_count": 62,
   "id": "8ee080c6",
   "metadata": {},
   "outputs": [
    {
     "data": {
      "text/plain": [
       "month_name                       0\n",
       "hour_period                      0\n",
       "weekdays_name                    0\n",
       "late_label                       0\n",
       "customer_region                  0\n",
       "seller_region                    0\n",
       "product_category_name_english    0\n",
       "scaled_product_weight_g          0\n",
       "scaled_product_volume            0\n",
       "scaled_distance_km               0\n",
       "rain_on_delivery_x               0\n",
       "delivery_on_holiday              0\n",
       "purchase_on_holiday              0\n",
       "dtype: int64"
      ]
     },
     "execution_count": 62,
     "metadata": {},
     "output_type": "execute_result"
    }
   ],
   "source": [
    "new_df.isnull().sum()"
   ]
  },
  {
   "cell_type": "markdown",
   "id": "5dfc10b8",
   "metadata": {},
   "source": [
    "### 3.1 Feature Encoding"
   ]
  },
  {
   "cell_type": "code",
   "execution_count": 63,
   "id": "565e7611",
   "metadata": {},
   "outputs": [],
   "source": [
    "#drop first category in each feature\n",
    "new_df = pd.get_dummies(new_df, columns=['month_name','hour_period','weekdays_name',\n",
    "                                         'customer_region','seller_region','product_category_name_english'], \n",
    "                        drop_first = True)"
   ]
  },
  {
   "cell_type": "code",
   "execution_count": 64,
   "id": "0e81fe5e",
   "metadata": {},
   "outputs": [
    {
     "data": {
      "text/html": [
       "<div>\n",
       "<style scoped>\n",
       "    .dataframe tbody tr th:only-of-type {\n",
       "        vertical-align: middle;\n",
       "    }\n",
       "\n",
       "    .dataframe tbody tr th {\n",
       "        vertical-align: top;\n",
       "    }\n",
       "\n",
       "    .dataframe thead th {\n",
       "        text-align: right;\n",
       "    }\n",
       "</style>\n",
       "<table border=\"1\" class=\"dataframe\">\n",
       "  <thead>\n",
       "    <tr style=\"text-align: right;\">\n",
       "      <th></th>\n",
       "      <th>late_label</th>\n",
       "      <th>scaled_product_weight_g</th>\n",
       "      <th>scaled_product_volume</th>\n",
       "      <th>scaled_distance_km</th>\n",
       "      <th>rain_on_delivery_x</th>\n",
       "      <th>delivery_on_holiday</th>\n",
       "      <th>purchase_on_holiday</th>\n",
       "    </tr>\n",
       "  </thead>\n",
       "  <tbody>\n",
       "    <tr>\n",
       "      <th>count</th>\n",
       "      <td>108958.000000</td>\n",
       "      <td>108958.000000</td>\n",
       "      <td>108958.000000</td>\n",
       "      <td>108958.000000</td>\n",
       "      <td>108958.000000</td>\n",
       "      <td>108958.000000</td>\n",
       "      <td>108958.000000</td>\n",
       "    </tr>\n",
       "    <tr>\n",
       "      <th>mean</th>\n",
       "      <td>0.040337</td>\n",
       "      <td>0.050999</td>\n",
       "      <td>0.050372</td>\n",
       "      <td>0.065836</td>\n",
       "      <td>0.415839</td>\n",
       "      <td>0.243773</td>\n",
       "      <td>0.269462</td>\n",
       "    </tr>\n",
       "    <tr>\n",
       "      <th>std</th>\n",
       "      <td>0.196748</td>\n",
       "      <td>0.091232</td>\n",
       "      <td>0.077645</td>\n",
       "      <td>0.065005</td>\n",
       "      <td>0.492868</td>\n",
       "      <td>0.429359</td>\n",
       "      <td>0.443682</td>\n",
       "    </tr>\n",
       "    <tr>\n",
       "      <th>min</th>\n",
       "      <td>0.000000</td>\n",
       "      <td>0.000000</td>\n",
       "      <td>0.000000</td>\n",
       "      <td>0.000000</td>\n",
       "      <td>0.000000</td>\n",
       "      <td>0.000000</td>\n",
       "      <td>0.000000</td>\n",
       "    </tr>\n",
       "    <tr>\n",
       "      <th>25%</th>\n",
       "      <td>0.000000</td>\n",
       "      <td>0.007421</td>\n",
       "      <td>0.009080</td>\n",
       "      <td>0.019412</td>\n",
       "      <td>0.000000</td>\n",
       "      <td>0.000000</td>\n",
       "      <td>0.000000</td>\n",
       "    </tr>\n",
       "    <tr>\n",
       "      <th>50%</th>\n",
       "      <td>0.000000</td>\n",
       "      <td>0.017316</td>\n",
       "      <td>0.021575</td>\n",
       "      <td>0.048325</td>\n",
       "      <td>0.000000</td>\n",
       "      <td>0.000000</td>\n",
       "      <td>0.000000</td>\n",
       "    </tr>\n",
       "    <tr>\n",
       "      <th>75%</th>\n",
       "      <td>0.000000</td>\n",
       "      <td>0.044527</td>\n",
       "      <td>0.060343</td>\n",
       "      <td>0.087817</td>\n",
       "      <td>1.000000</td>\n",
       "      <td>0.000000</td>\n",
       "      <td>1.000000</td>\n",
       "    </tr>\n",
       "    <tr>\n",
       "      <th>max</th>\n",
       "      <td>1.000000</td>\n",
       "      <td>1.000000</td>\n",
       "      <td>1.000000</td>\n",
       "      <td>1.000000</td>\n",
       "      <td>1.000000</td>\n",
       "      <td>1.000000</td>\n",
       "      <td>1.000000</td>\n",
       "    </tr>\n",
       "  </tbody>\n",
       "</table>\n",
       "</div>"
      ],
      "text/plain": [
       "          late_label  scaled_product_weight_g  scaled_product_volume  \\\n",
       "count  108958.000000            108958.000000          108958.000000   \n",
       "mean        0.040337                 0.050999               0.050372   \n",
       "std         0.196748                 0.091232               0.077645   \n",
       "min         0.000000                 0.000000               0.000000   \n",
       "25%         0.000000                 0.007421               0.009080   \n",
       "50%         0.000000                 0.017316               0.021575   \n",
       "75%         0.000000                 0.044527               0.060343   \n",
       "max         1.000000                 1.000000               1.000000   \n",
       "\n",
       "       scaled_distance_km  rain_on_delivery_x  delivery_on_holiday  \\\n",
       "count       108958.000000       108958.000000        108958.000000   \n",
       "mean             0.065836            0.415839             0.243773   \n",
       "std              0.065005            0.492868             0.429359   \n",
       "min              0.000000            0.000000             0.000000   \n",
       "25%              0.019412            0.000000             0.000000   \n",
       "50%              0.048325            0.000000             0.000000   \n",
       "75%              0.087817            1.000000             0.000000   \n",
       "max              1.000000            1.000000             1.000000   \n",
       "\n",
       "       purchase_on_holiday  \n",
       "count        108958.000000  \n",
       "mean              0.269462  \n",
       "std               0.443682  \n",
       "min               0.000000  \n",
       "25%               0.000000  \n",
       "50%               0.000000  \n",
       "75%               1.000000  \n",
       "max               1.000000  "
      ]
     },
     "execution_count": 64,
     "metadata": {},
     "output_type": "execute_result"
    }
   ],
   "source": [
    "new_df.describe()"
   ]
  },
  {
   "cell_type": "markdown",
   "id": "cace00ee",
   "metadata": {},
   "source": [
    "### 3.2 Feature Selection"
   ]
  },
  {
   "cell_type": "code",
   "execution_count": 65,
   "id": "18f0690e",
   "metadata": {},
   "outputs": [],
   "source": [
    "olist_label = new_df['late_label'].copy()\n",
    "olist_features = new_df.drop('late_label', axis=1)"
   ]
  },
  {
   "cell_type": "code",
   "execution_count": 66,
   "id": "f86ff566",
   "metadata": {},
   "outputs": [
    {
     "name": "stdout",
     "output_type": "stream",
     "text": [
      "<class 'pandas.core.frame.DataFrame'>\n",
      "RangeIndex: 108958 entries, 0 to 108957\n",
      "Data columns (total 83 columns):\n",
      " #   Column                                                                 Non-Null Count   Dtype  \n",
      "---  ------                                                                 --------------   -----  \n",
      " 0   scaled_product_weight_g                                                108958 non-null  float64\n",
      " 1   scaled_product_volume                                                  108958 non-null  float64\n",
      " 2   scaled_distance_km                                                     108958 non-null  float64\n",
      " 3   rain_on_delivery_x                                                     108958 non-null  int64  \n",
      " 4   delivery_on_holiday                                                    108958 non-null  int64  \n",
      " 5   purchase_on_holiday                                                    108958 non-null  int64  \n",
      " 6   month_name_August                                                      108958 non-null  bool   \n",
      " 7   month_name_December                                                    108958 non-null  bool   \n",
      " 8   month_name_February                                                    108958 non-null  bool   \n",
      " 9   month_name_January                                                     108958 non-null  bool   \n",
      " 10  month_name_July                                                        108958 non-null  bool   \n",
      " 11  month_name_June                                                        108958 non-null  bool   \n",
      " 12  month_name_March                                                       108958 non-null  bool   \n",
      " 13  month_name_May                                                         108958 non-null  bool   \n",
      " 14  month_name_November                                                    108958 non-null  bool   \n",
      " 15  month_name_October                                                     108958 non-null  bool   \n",
      " 16  month_name_September                                                   108958 non-null  bool   \n",
      " 17  hour_period_Dawn                                                       108958 non-null  bool   \n",
      " 18  hour_period_Morning                                                    108958 non-null  bool   \n",
      " 19  hour_period_Night                                                      108958 non-null  bool   \n",
      " 20  weekdays_name_Monday                                                   108958 non-null  bool   \n",
      " 21  weekdays_name_Saturday                                                 108958 non-null  bool   \n",
      " 22  weekdays_name_Sunday                                                   108958 non-null  bool   \n",
      " 23  weekdays_name_Thursday                                                 108958 non-null  bool   \n",
      " 24  weekdays_name_Tuesday                                                  108958 non-null  bool   \n",
      " 25  weekdays_name_Wednesday                                                108958 non-null  bool   \n",
      " 26  customer_region_North                                                  108958 non-null  bool   \n",
      " 27  customer_region_Northeast                                              108958 non-null  bool   \n",
      " 28  customer_region_South                                                  108958 non-null  bool   \n",
      " 29  customer_region_Southeast                                              108958 non-null  bool   \n",
      " 30  seller_region_North                                                    108958 non-null  bool   \n",
      " 31  seller_region_Northeast                                                108958 non-null  bool   \n",
      " 32  seller_region_South                                                    108958 non-null  bool   \n",
      " 33  seller_region_Southeast                                                108958 non-null  bool   \n",
      " 34  product_category_name_english_air_conditioning                         108958 non-null  bool   \n",
      " 35  product_category_name_english_art                                      108958 non-null  bool   \n",
      " 36  product_category_name_english_audio                                    108958 non-null  bool   \n",
      " 37  product_category_name_english_auto                                     108958 non-null  bool   \n",
      " 38  product_category_name_english_baby                                     108958 non-null  bool   \n",
      " 39  product_category_name_english_bed_bath_table                           108958 non-null  bool   \n",
      " 40  product_category_name_english_books_general_interest                   108958 non-null  bool   \n",
      " 41  product_category_name_english_books_technical                          108958 non-null  bool   \n",
      " 42  product_category_name_english_christmas_supplies                       108958 non-null  bool   \n",
      " 43  product_category_name_english_computers                                108958 non-null  bool   \n",
      " 44  product_category_name_english_computers_accessories                    108958 non-null  bool   \n",
      " 45  product_category_name_english_consoles_games                           108958 non-null  bool   \n",
      " 46  product_category_name_english_construction_tools_construction          108958 non-null  bool   \n",
      " 47  product_category_name_english_construction_tools_lights                108958 non-null  bool   \n",
      " 48  product_category_name_english_construction_tools_safety                108958 non-null  bool   \n",
      " 49  product_category_name_english_cool_stuff                               108958 non-null  bool   \n",
      " 50  product_category_name_english_costruction_tools_garden                 108958 non-null  bool   \n",
      " 51  product_category_name_english_drinks                                   108958 non-null  bool   \n",
      " 52  product_category_name_english_electronics                              108958 non-null  bool   \n",
      " 53  product_category_name_english_fashion_bags_accessories                 108958 non-null  bool   \n",
      " 54  product_category_name_english_fashion_shoes                            108958 non-null  bool   \n",
      " 55  product_category_name_english_fixed_telephony                          108958 non-null  bool   \n",
      " 56  product_category_name_english_food                                     108958 non-null  bool   \n",
      " 57  product_category_name_english_food_drink                               108958 non-null  bool   \n",
      " 58  product_category_name_english_furniture_decor                          108958 non-null  bool   \n",
      " 59  product_category_name_english_furniture_living_room                    108958 non-null  bool   \n",
      " 60  product_category_name_english_garden_tools                             108958 non-null  bool   \n",
      " 61  product_category_name_english_health_beauty                            108958 non-null  bool   \n",
      " 62  product_category_name_english_home_appliances                          108958 non-null  bool   \n",
      " 63  product_category_name_english_home_appliances_2                        108958 non-null  bool   \n",
      " 64  product_category_name_english_home_confort                             108958 non-null  bool   \n",
      " 65  product_category_name_english_home_construction                        108958 non-null  bool   \n",
      " 66  product_category_name_english_housewares                               108958 non-null  bool   \n",
      " 67  product_category_name_english_industry_commerce_and_business           108958 non-null  bool   \n",
      " 68  product_category_name_english_kitchen_dining_laundry_garden_furniture  108958 non-null  bool   \n",
      " 69  product_category_name_english_luggage_accessories                      108958 non-null  bool   \n",
      " 70  product_category_name_english_market_place                             108958 non-null  bool   \n",
      " 71  product_category_name_english_musical_instruments                      108958 non-null  bool   \n",
      " 72  product_category_name_english_office_furniture                         108958 non-null  bool   \n",
      " 73  product_category_name_english_others                                   108958 non-null  bool   \n",
      " 74  product_category_name_english_perfumery                                108958 non-null  bool   \n",
      " 75  product_category_name_english_pet_shop                                 108958 non-null  bool   \n",
      " 76  product_category_name_english_signaling_and_security                   108958 non-null  bool   \n",
      " 77  product_category_name_english_small_appliances                         108958 non-null  bool   \n",
      " 78  product_category_name_english_sports_leisure                           108958 non-null  bool   \n",
      " 79  product_category_name_english_stationery                               108958 non-null  bool   \n",
      " 80  product_category_name_english_telephony                                108958 non-null  bool   \n",
      " 81  product_category_name_english_toys                                     108958 non-null  bool   \n",
      " 82  product_category_name_english_watches_gifts                            108958 non-null  bool   \n",
      "dtypes: bool(77), float64(3), int64(3)\n",
      "memory usage: 13.0 MB\n"
     ]
    }
   ],
   "source": [
    "olist_features.info()"
   ]
  },
  {
   "cell_type": "markdown",
   "id": "92fd1846",
   "metadata": {},
   "source": [
    "### 3.3 Class imbalance Oversampling"
   ]
  },
  {
   "cell_type": "code",
   "execution_count": 67,
   "id": "f0b29b90",
   "metadata": {},
   "outputs": [
    {
     "data": {
      "text/plain": [
       "<Axes: xlabel='late_label', ylabel='count'>"
      ]
     },
     "execution_count": 67,
     "metadata": {},
     "output_type": "execute_result"
    },
    {
     "data": {
      "image/png": "[encoded data removed]",
      "text/plain": [
       "<Figure size 640x480 with 1 Axes>"
      ]
     },
     "metadata": {},
     "output_type": "display_data"
    }
   ],
   "source": [
    "#Oversampling method for response and features\n",
    "response = 'late_label'\n",
    "y = new_df[[response]]\n",
    "features = list(new_df.columns)\n",
    "features.remove(response)\n",
    "\n",
    "sns.countplot(x=response, data=new_df)"
   ]
  },
  {
   "cell_type": "code",
   "execution_count": 68,
   "id": "b3019d55",
   "metadata": {},
   "outputs": [
    {
     "name": "stdout",
     "output_type": "stream",
     "text": [
      "class 0: 104563\n",
      "class 1: 4395\n"
     ]
    }
   ],
   "source": [
    "y = new_df[response]\n",
    "X= new_df[features]\n",
    "\n",
    "class_count_0, class_count_1 = new_df[response].value_counts()\n",
    "\n",
    "# class of late_label\n",
    "class_0 = new_df[new_df[response] == 0]\n",
    "class_1 = new_df[new_df[response] == 1]\n",
    "\n",
    "print('class 0:', class_count_0)\n",
    "print('class 1:', class_count_1)"
   ]
  },
  {
   "cell_type": "code",
   "execution_count": 69,
   "id": "fa57daaa",
   "metadata": {},
   "outputs": [
    {
     "name": "stdout",
     "output_type": "stream",
     "text": [
      "class 0: (104563,)\n",
      "class 1: (104563,)\n"
     ]
    },
    {
     "data": {
      "text/plain": [
       "209126"
      ]
     },
     "execution_count": 69,
     "metadata": {},
     "output_type": "execute_result"
    }
   ],
   "source": [
    "# Oversample class 1 \n",
    "y_1 = class_1[response].sample(n=class_count_0, replace=True, random_state=2)\n",
    "y_0 = class_0[response]\n",
    "\n",
    "print('class 0:', y_0.shape)\n",
    "print('class 1:', y_1.shape)\n",
    "\n",
    "# Combine oversampled class 1\n",
    "y_oversampled = pd.concat([y_0,y_1])\n",
    "X_oversampled = X.loc[y_oversampled.index]\n",
    "\n",
    "# Combine features and response into a new DataFrame\n",
    "olist_oversample = pd.concat([X_oversampled, y_oversampled], axis=1)\n",
    "len(olist_oversample)"
   ]
  },
  {
   "cell_type": "code",
   "execution_count": 70,
   "id": "8603c4c2",
   "metadata": {},
   "outputs": [
    {
     "data": {
      "text/plain": [
       "<Axes: xlabel='late_label', ylabel='count'>"
      ]
     },
     "execution_count": 70,
     "metadata": {},
     "output_type": "execute_result"
    },
    {
     "data": {
      "image/png": "[encoded data removed]",
      "text/plain": [
       "<Figure size 640x480 with 1 Axes>"
      ]
     },
     "metadata": {},
     "output_type": "display_data"
    }
   ],
   "source": [
    "sns.countplot(x=response, data=olist_oversample)"
   ]
  },
  {
   "cell_type": "code",
   "execution_count": 71,
   "id": "77120f9d",
   "metadata": {},
   "outputs": [],
   "source": [
    "olist_oversample.to_csv('olist_oversample_complete.csv', index=False)"
   ]
  },
  {
   "cell_type": "code",
   "execution_count": 72,
   "id": "e08af196",
   "metadata": {},
   "outputs": [
    {
     "name": "stdout",
     "output_type": "stream",
     "text": [
      "(209126, 84)\n"
     ]
    }
   ],
   "source": [
    "print(olist_oversample.shape)"
   ]
  },
  {
   "cell_type": "markdown",
   "id": "b22ac05b",
   "metadata": {},
   "source": [
    "## Exploratory Data Analysis (EDA)"
   ]
  },
  {
   "cell_type": "code",
   "execution_count": 1,
   "id": "3d48fca1",
   "metadata": {},
   "outputs": [
    {
     "data": {
      "text/html": [
       "<div>\n",
       "<style scoped>\n",
       "    .dataframe tbody tr th:only-of-type {\n",
       "        vertical-align: middle;\n",
       "    }\n",
       "\n",
       "    .dataframe tbody tr th {\n",
       "        vertical-align: top;\n",
       "    }\n",
       "\n",
       "    .dataframe thead th {\n",
       "        text-align: right;\n",
       "    }\n",
       "</style>\n",
       "<table border=\"1\" class=\"dataframe\">\n",
       "  <thead>\n",
       "    <tr style=\"text-align: right;\">\n",
       "      <th></th>\n",
       "      <th>scaled_product_weight_g</th>\n",
       "      <th>scaled_product_volume</th>\n",
       "      <th>scaled_distance_km</th>\n",
       "      <th>rain_on_delivery</th>\n",
       "      <th>delivery_on_holiday</th>\n",
       "      <th>purchase_on_holiday</th>\n",
       "      <th>month_name_August</th>\n",
       "      <th>month_name_December</th>\n",
       "      <th>month_name_February</th>\n",
       "      <th>month_name_January</th>\n",
       "      <th>...</th>\n",
       "      <th>product_category_name_english_perfumery</th>\n",
       "      <th>product_category_name_english_pet_shop</th>\n",
       "      <th>product_category_name_english_signaling_and_security</th>\n",
       "      <th>product_category_name_english_small_appliances</th>\n",
       "      <th>product_category_name_english_sports_leisure</th>\n",
       "      <th>product_category_name_english_stationery</th>\n",
       "      <th>product_category_name_english_telephony</th>\n",
       "      <th>product_category_name_english_toys</th>\n",
       "      <th>product_category_name_english_watches_gifts</th>\n",
       "      <th>late_label</th>\n",
       "    </tr>\n",
       "  </thead>\n",
       "  <tbody>\n",
       "    <tr>\n",
       "      <th>0</th>\n",
       "      <td>0.012369</td>\n",
       "      <td>0.006107</td>\n",
       "      <td>0.002146</td>\n",
       "      <td>1</td>\n",
       "      <td>1</td>\n",
       "      <td>0</td>\n",
       "      <td>0</td>\n",
       "      <td>0</td>\n",
       "      <td>0</td>\n",
       "      <td>0</td>\n",
       "      <td>...</td>\n",
       "      <td>0</td>\n",
       "      <td>0</td>\n",
       "      <td>0</td>\n",
       "      <td>0</td>\n",
       "      <td>0</td>\n",
       "      <td>0</td>\n",
       "      <td>0</td>\n",
       "      <td>0</td>\n",
       "      <td>0</td>\n",
       "      <td>0</td>\n",
       "    </tr>\n",
       "    <tr>\n",
       "      <th>1</th>\n",
       "      <td>0.012369</td>\n",
       "      <td>0.006107</td>\n",
       "      <td>0.002146</td>\n",
       "      <td>1</td>\n",
       "      <td>1</td>\n",
       "      <td>0</td>\n",
       "      <td>0</td>\n",
       "      <td>0</td>\n",
       "      <td>0</td>\n",
       "      <td>0</td>\n",
       "      <td>...</td>\n",
       "      <td>0</td>\n",
       "      <td>0</td>\n",
       "      <td>0</td>\n",
       "      <td>0</td>\n",
       "      <td>0</td>\n",
       "      <td>0</td>\n",
       "      <td>0</td>\n",
       "      <td>0</td>\n",
       "      <td>0</td>\n",
       "      <td>0</td>\n",
       "    </tr>\n",
       "    <tr>\n",
       "      <th>2</th>\n",
       "      <td>0.012369</td>\n",
       "      <td>0.006107</td>\n",
       "      <td>0.002146</td>\n",
       "      <td>1</td>\n",
       "      <td>1</td>\n",
       "      <td>0</td>\n",
       "      <td>0</td>\n",
       "      <td>0</td>\n",
       "      <td>0</td>\n",
       "      <td>0</td>\n",
       "      <td>...</td>\n",
       "      <td>0</td>\n",
       "      <td>0</td>\n",
       "      <td>0</td>\n",
       "      <td>0</td>\n",
       "      <td>0</td>\n",
       "      <td>0</td>\n",
       "      <td>0</td>\n",
       "      <td>0</td>\n",
       "      <td>0</td>\n",
       "      <td>0</td>\n",
       "    </tr>\n",
       "    <tr>\n",
       "      <th>3</th>\n",
       "      <td>0.012369</td>\n",
       "      <td>0.006107</td>\n",
       "      <td>0.001827</td>\n",
       "      <td>1</td>\n",
       "      <td>0</td>\n",
       "      <td>0</td>\n",
       "      <td>1</td>\n",
       "      <td>0</td>\n",
       "      <td>0</td>\n",
       "      <td>0</td>\n",
       "      <td>...</td>\n",
       "      <td>0</td>\n",
       "      <td>0</td>\n",
       "      <td>0</td>\n",
       "      <td>0</td>\n",
       "      <td>0</td>\n",
       "      <td>0</td>\n",
       "      <td>0</td>\n",
       "      <td>0</td>\n",
       "      <td>0</td>\n",
       "      <td>0</td>\n",
       "    </tr>\n",
       "    <tr>\n",
       "      <th>4</th>\n",
       "      <td>0.012369</td>\n",
       "      <td>0.006107</td>\n",
       "      <td>0.002693</td>\n",
       "      <td>0</td>\n",
       "      <td>0</td>\n",
       "      <td>0</td>\n",
       "      <td>1</td>\n",
       "      <td>0</td>\n",
       "      <td>0</td>\n",
       "      <td>0</td>\n",
       "      <td>...</td>\n",
       "      <td>0</td>\n",
       "      <td>0</td>\n",
       "      <td>0</td>\n",
       "      <td>0</td>\n",
       "      <td>0</td>\n",
       "      <td>0</td>\n",
       "      <td>0</td>\n",
       "      <td>0</td>\n",
       "      <td>0</td>\n",
       "      <td>0</td>\n",
       "    </tr>\n",
       "  </tbody>\n",
       "</table>\n",
       "<p>5 rows × 84 columns</p>\n",
       "</div>"
      ],
      "text/plain": [
       "   scaled_product_weight_g  scaled_product_volume  scaled_distance_km  \\\n",
       "0                 0.012369               0.006107            0.002146   \n",
       "1                 0.012369               0.006107            0.002146   \n",
       "2                 0.012369               0.006107            0.002146   \n",
       "3                 0.012369               0.006107            0.001827   \n",
       "4                 0.012369               0.006107            0.002693   \n",
       "\n",
       "   rain_on_delivery  delivery_on_holiday  purchase_on_holiday  \\\n",
       "0                 1                    1                    0   \n",
       "1                 1                    1                    0   \n",
       "2                 1                    1                    0   \n",
       "3                 1                    0                    0   \n",
       "4                 0                    0                    0   \n",
       "\n",
       "   month_name_August  month_name_December  month_name_February  \\\n",
       "0                  0                    0                    0   \n",
       "1                  0                    0                    0   \n",
       "2                  0                    0                    0   \n",
       "3                  1                    0                    0   \n",
       "4                  1                    0                    0   \n",
       "\n",
       "   month_name_January  ...  product_category_name_english_perfumery  \\\n",
       "0                   0  ...                                        0   \n",
       "1                   0  ...                                        0   \n",
       "2                   0  ...                                        0   \n",
       "3                   0  ...                                        0   \n",
       "4                   0  ...                                        0   \n",
       "\n",
       "   product_category_name_english_pet_shop  \\\n",
       "0                                       0   \n",
       "1                                       0   \n",
       "2                                       0   \n",
       "3                                       0   \n",
       "4                                       0   \n",
       "\n",
       "   product_category_name_english_signaling_and_security  \\\n",
       "0                                                  0      \n",
       "1                                                  0      \n",
       "2                                                  0      \n",
       "3                                                  0      \n",
       "4                                                  0      \n",
       "\n",
       "   product_category_name_english_small_appliances  \\\n",
       "0                                               0   \n",
       "1                                               0   \n",
       "2                                               0   \n",
       "3                                               0   \n",
       "4                                               0   \n",
       "\n",
       "   product_category_name_english_sports_leisure  \\\n",
       "0                                             0   \n",
       "1                                             0   \n",
       "2                                             0   \n",
       "3                                             0   \n",
       "4                                             0   \n",
       "\n",
       "   product_category_name_english_stationery  \\\n",
       "0                                         0   \n",
       "1                                         0   \n",
       "2                                         0   \n",
       "3                                         0   \n",
       "4                                         0   \n",
       "\n",
       "   product_category_name_english_telephony  \\\n",
       "0                                        0   \n",
       "1                                        0   \n",
       "2                                        0   \n",
       "3                                        0   \n",
       "4                                        0   \n",
       "\n",
       "   product_category_name_english_toys  \\\n",
       "0                                   0   \n",
       "1                                   0   \n",
       "2                                   0   \n",
       "3                                   0   \n",
       "4                                   0   \n",
       "\n",
       "   product_category_name_english_watches_gifts  late_label  \n",
       "0                                            0           0  \n",
       "1                                            0           0  \n",
       "2                                            0           0  \n",
       "3                                            0           0  \n",
       "4                                            0           0  \n",
       "\n",
       "[5 rows x 84 columns]"
      ]
     },
     "execution_count": 1,
     "metadata": {},
     "output_type": "execute_result"
    }
   ],
   "source": [
    "import pandas as pd\n",
    "\n",
    "# Load the dataset\n",
    "file_path = 'olist_oversample_complete.csv'\n",
    "data = pd.read_csv(file_path)\n",
    "\n",
    "# Display the first few rows of the dataset\n",
    "data.head()"
   ]
  },
  {
   "cell_type": "code",
   "execution_count": 2,
   "id": "1da47eee",
   "metadata": {},
   "outputs": [
    {
     "data": {
      "image/png": "[encoded data removed]",
      "text/plain": [
       "<Figure size 1800x500 with 3 Axes>"
      ]
     },
     "metadata": {},
     "output_type": "display_data"
    }
   ],
   "source": [
    "import matplotlib.pyplot as plt\n",
    "import seaborn as sns\n",
    "\n",
    "# Set up the matplotlib figure\n",
    "plt.figure(figsize=(18, 5))\n",
    "\n",
    "# Names of the features to plot\n",
    "features = ['scaled_product_weight_g', 'scaled_product_volume', 'scaled_distance_km']\n",
    "\n",
    "# Create a 1x3 subplot\n",
    "for i, feature in enumerate(features, 1):\n",
    "    plt.subplot(1, 3, i)\n",
    "    sns.histplot(data[feature], kde=False, bins=30)\n",
    "    plt.title(f'Distribution of {feature}')\n",
    "    plt.xlabel(feature)\n",
    "    plt.ylabel('Frequency')\n",
    "\n",
    "plt.tight_layout()\n",
    "plt.show()"
   ]
  },
  {
   "cell_type": "code",
   "execution_count": 3,
   "id": "20093474",
   "metadata": {},
   "outputs": [
    {
     "data": {
      "image/png": "[encoded data removed]",
      "text/plain": [
       "<Figure size 1800x500 with 3 Axes>"
      ]
     },
     "metadata": {},
     "output_type": "display_data"
    }
   ],
   "source": [
    "# Set up the matplotlib figure\n",
    "plt.figure(figsize=(18, 5))\n",
    "\n",
    "# Create a 1x3 subplot for box plots\n",
    "for i, feature in enumerate(features, 1):\n",
    "    plt.subplot(1, 3, i)\n",
    "    sns.boxplot(x='late_label', y=feature, data=data)\n",
    "    plt.title(f'{feature} by Late Delivery Status')\n",
    "    plt.xlabel('Late Delivery Label')\n",
    "    plt.ylabel(feature)\n",
    "\n",
    "plt.tight_layout()\n",
    "plt.show()\n"
   ]
  },
  {
   "cell_type": "code",
   "execution_count": 4,
   "id": "f0ed57ef",
   "metadata": {},
   "outputs": [
    {
     "data": {
      "image/png": "[encoded data removed]",
      "text/plain": [
       "<Figure size 1000x800 with 2 Axes>"
      ]
     },
     "metadata": {},
     "output_type": "display_data"
    }
   ],
   "source": [
    "# Compute the correlation matrix\n",
    "correlation_matrix = data.corr()\n",
    "\n",
    "# Focus on correlations with the target variable and key features\n",
    "selected_features = ['scaled_product_weight_g', 'scaled_product_volume', 'scaled_distance_km', 'late_label']\n",
    "correlation_submatrix = correlation_matrix.loc[selected_features, selected_features]\n",
    "\n",
    "# Plotting the correlation matrix\n",
    "plt.figure(figsize=(10, 8))\n",
    "sns.heatmap(correlation_submatrix, annot=True, cmap='coolwarm', fmt=\".2f\", linewidths=.5)\n",
    "plt.title('Correlation Matrix')\n",
    "plt.show()\n"
   ]
  },
  {
   "cell_type": "markdown",
   "id": "1b049981",
   "metadata": {},
   "source": [
    "## 5. Machine Learning Algorithms"
   ]
  },
  {
   "cell_type": "code",
   "execution_count": 73,
   "id": "fbc5d000",
   "metadata": {},
   "outputs": [],
   "source": [
    "import pandas as pd\n",
    "import numpy as np\n",
    "from sklearn.model_selection import train_test_split, cross_val_score, GridSearchCV\n",
    "from sklearn.metrics import accuracy_score\n",
    "from sklearn.ensemble import RandomForestClassifier, VotingClassifier\n",
    "from sklearn.linear_model import LogisticRegression\n",
    "from sklearn.tree import DecisionTreeClassifier\n",
    "from sklearn.naive_bayes import GaussianNB\n",
    "from sklearn.neighbors import KNeighborsClassifier\n",
    "\n",
    "# seperate features and target\n",
    "X = new_df.drop('late_label', axis=1)\n",
    "y = new_df['late_label']\n",
    "\n",
    "# Convert DataFrame to NumPy array to ensure compatibility\n",
    "X = np.ascontiguousarray(X.to_numpy())\n",
    "y = np.ascontiguousarray(y.to_numpy())"
   ]
  },
  {
   "cell_type": "markdown",
   "id": "a53f8b07",
   "metadata": {},
   "source": [
    "### 5.1 Initial Model Selection"
   ]
  },
  {
   "cell_type": "code",
   "execution_count": 74,
   "id": "80302e76",
   "metadata": {},
   "outputs": [],
   "source": [
    "# Initialize models\n",
    "logistic_regression = LogisticRegression()\n",
    "decision_tree = DecisionTreeClassifier()\n",
    "naive_bayes = GaussianNB()\n",
    "random_forest = RandomForestClassifier()\n",
    "knn = KNeighborsClassifier()"
   ]
  },
  {
   "cell_type": "markdown",
   "id": "e9681dcf",
   "metadata": {},
   "source": [
    "### 5.2 Cross-Validation"
   ]
  },
  {
   "cell_type": "code",
   "execution_count": 80,
   "id": "c18333a1",
   "metadata": {},
   "outputs": [
    {
     "name": "stdout",
     "output_type": "stream",
     "text": [
      "Logistic Regression Cross-Validation Accuracy: 0.9598138193260783\n",
      "Decision Tree Cross-Validation Accuracy: 0.9387963812770421\n",
      "KNN Cross-Validation Accuracy: 0.9579913465320571\n",
      "Naive Bayes Cross-Validation Accuracy: 0.5781303264717451\n",
      "Random Forest Cross-Validation Accuracy: 0.9672348236528123\n"
     ]
    }
   ],
   "source": [
    "# Split into training and testing sets\n",
    "X_train, X_test, y_train, y_test = train_test_split(X, y, test_size=0.3, random_state=42)\n",
    "\n",
    "# Perform 5-fold cross-validation for each initial model\n",
    "models = [('Logistic Regression', logistic_regression), \n",
    "          ('Decision Tree', decision_tree),\n",
    "          ('KNN', knn), \n",
    "          ('Naive Bayes', naive_bayes), \n",
    "          ('Random Forest', random_forest)]\n",
    "\n",
    "for name, model in models:\n",
    "    scores = cross_val_score(model, X_train, y_train, cv=5)\n",
    "    print(f\"{name} Cross-Validation Accuracy: {scores.mean()}\")"
   ]
  },
  {
   "cell_type": "markdown",
   "id": "f9342286",
   "metadata": {},
   "source": [
    "### 5.3 Fine-Tune Hyperparameters for Random Forest"
   ]
  },
  {
   "cell_type": "code",
   "execution_count": 81,
   "id": "3d51a955",
   "metadata": {},
   "outputs": [
    {
     "name": "stdout",
     "output_type": "stream",
     "text": [
      "Best Random Forest Model: RandomForestClassifier(n_estimators=200)\n",
      "Best Hyperparameters for Random Forest: {'max_depth': None, 'min_samples_split': 2, 'n_estimators': 200}\n",
      "Best Random Forest Model Accuracy: 0.9671299331322931\n"
     ]
    }
   ],
   "source": [
    "# Hyperparameters grid for Random Forest\n",
    "param_grid_rf = {\n",
    "    'n_estimators': [100, 200, 300],\n",
    "    'max_depth': [None, 10, 20, 30],\n",
    "    'min_samples_split': [2, 5, 10]\n",
    "}\n",
    "\n",
    "# Perform Grid Search Cross-Validation for Random Forest\n",
    "grid_search_rf = GridSearchCV(random_forest, param_grid_rf, cv=5)\n",
    "grid_search_rf.fit(X_train, y_train)\n",
    "\n",
    "# Get best estimator and its accuracy\n",
    "best_rf_model = grid_search_rf.best_estimator_\n",
    "best_params_rf = grid_search_rf.best_params_\n",
    "print(\"Best Random Forest Model:\", best_rf_model)\n",
    "print(\"Best Hyperparameters for Random Forest:\", best_params_rf)\n",
    "print(\"Best Random Forest Model Accuracy:\", grid_search_rf.best_score_)"
   ]
  },
  {
   "cell_type": "markdown",
   "id": "555b5b6f",
   "metadata": {},
   "source": [
    "## 6. Model Evaluation\n",
    "\n",
    "Confusion Matrix (y_test and y_pred)\n",
    "\n",
    "ROC and AUC (fpr and tpr false positive rate and true positive rate)"
   ]
  },
  {
   "cell_type": "code",
   "execution_count": 83,
   "id": "a06870e9",
   "metadata": {},
   "outputs": [
    {
     "name": "stdout",
     "output_type": "stream",
     "text": [
      "Model: Logistic Regression\n",
      "Accuracy: 0.9593122858541361\n",
      "AUC: 0.5\n",
      "Confusion Matrix:\n",
      "[[31358     0]\n",
      " [ 1330     0]]\n",
      "\n",
      "Model: Decision Tree\n",
      "Accuracy: 0.9373164464023495\n",
      "AUC: 0.63\n",
      "Confusion Matrix:\n",
      "[[30245  1113]\n",
      " [  936   394]]\n",
      "\n",
      "Model: KNN\n",
      "Accuracy: 0.9577214880078316\n",
      "AUC: 0.54\n",
      "Confusion Matrix:\n",
      "[[31205   153]\n",
      " [ 1229   101]]\n",
      "\n",
      "Model: Naive Bayes\n",
      "Accuracy: 0.6562041116005873\n",
      "AUC: 0.63\n",
      "Confusion Matrix:\n",
      "[[20654 10704]\n",
      " [  534   796]]\n",
      "\n",
      "Model: Random Forest\n",
      "Accuracy: 0.9662567302985805\n",
      "AUC: 0.59\n",
      "Confusion Matrix:\n",
      "[[31332    26]\n",
      " [ 1077   253]]\n",
      "\n"
     ]
    }
   ],
   "source": [
    "from sklearn import metrics\n",
    "from sklearn.metrics import classification_report, confusion_matrix\n",
    "\n",
    "model_list = ['Logistic Regression', 'Decision Tree', 'KNN', 'Naive Bayes', 'Random Forest']\n",
    "models = [LogisticRegression(), DecisionTreeClassifier(), KNeighborsClassifier(), GaussianNB(), RandomForestClassifier()]\n",
    "\n",
    "acc_list = []\n",
    "auc_list = []\n",
    "cm_list = []\n",
    "\n",
    "for model in models:\n",
    "    model.fit(X_train, y_train)\n",
    "    y_pred = model.predict(X_test)\n",
    "    acc_list.append(metrics.accuracy_score(y_test, y_pred))\n",
    "    fpr, tpr, _thresholds = metrics.roc_curve(y_test, y_pred)\n",
    "    auc_list.append(round(metrics.auc(fpr, tpr), 2))\n",
    "    cm_list.append(confusion_matrix(y_test, y_pred))\n",
    "\n",
    "for i, model_name in enumerate(model_list):\n",
    "    print(f\"Model: {model_name}\")\n",
    "    print(f\"Accuracy: {acc_list[i]}\")\n",
    "    print(f\"AUC: {auc_list[i]}\")\n",
    "    print(f\"Confusion Matrix:\\n{cm_list[i]}\\n\")\n"
   ]
  }
 ],
 "metadata": {
  "kernelspec": {
   "display_name": "Python 3 (ipykernel)",
   "language": "python",
   "name": "python3"
  },
  "language_info": {
   "codemirror_mode": {
    "name": "ipython",
    "version": 3
   },
   "file_extension": ".py",
   "mimetype": "text/x-python",
   "name": "python",
   "nbconvert_exporter": "python",
   "pygments_lexer": "ipython3",
   "version": "3.11.5"
  }
 },
 "nbformat": 4,
 "nbformat_minor": 5
}
